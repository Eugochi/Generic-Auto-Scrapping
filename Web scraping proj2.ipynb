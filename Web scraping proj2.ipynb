{
 "cells": [
  {
   "cell_type": "markdown",
   "id": "74099706-0429-4aaa-b8bd-e463ad08ca21",
   "metadata": {},
   "source": [
    "# WEB SCRAPING WITH ALEX THE ANALYST"
   ]
  },
  {
   "cell_type": "code",
   "execution_count": 1,
   "id": "d703ff2c-ef79-4485-9c71-48de49c576ba",
   "metadata": {},
   "outputs": [],
   "source": [
    "import pandas as pd\n",
    "import numpy as np\n",
    "import matplotlib.pyplot as plt\n",
    "import seaborn as sns\n",
    "import requests\n",
    "import smtplib\n",
    "import time\n",
    "import datetime\n",
    "from bs4 import BeautifulSoup\n",
    "%matplotlib inline"
   ]
  },
  {
   "cell_type": "code",
   "execution_count": null,
   "id": "8e1b6a71-24b2-4960-9519-c86e17fafe82",
   "metadata": {},
   "outputs": [],
   "source": [
    "#smtplib is a client sessin that can be used to send mail to any internet machine using th smtp server.\n",
    "\n",
    "\n",
    "#ALEX'S CODE DIDNT WORK FOR THIS SITE SO I HAD TO IMPORT DRIVERS AND TRY OTHER CODES\n",
    "#url ='https://www.amazon.com/s?k=data%2Banalyst%2Btshirt&crid=1R77KZU2B6RQD&sprefix=data%2Banalyst%2Btshirt%2Caps%2C666&ref=nb_sb_noss_1'\n",
    "\n",
    "#header = {\"User-Agent\": \"Mozilla/5.0 (Windows NT 10.0; Win64; x64) AppleWebKit/537.36 (KHTML, like Gecko) Chrome/111.0.0.0 Safari/537.36\"} \n",
    "#the above header is a user agent gotten from https://httpbin.org/get\n",
    "#page = requests.get(url, headers=header) #headers = the header we have above"
   ]
  },
  {
   "cell_type": "code",
   "execution_count": 185,
   "id": "e5fcc7c7-9c29-449b-aba5-19f111c919ac",
   "metadata": {},
   "outputs": [],
   "source": [
    "from selenium import webdriver\n",
    "import chromedriver_binary\n",
    "\n",
    "driver= webdriver.Chrome(executable_path = \"Documents/Data Anaytics Dr Briit/chromedriver.exe\")\n",
    "#completely skip this code if you have a matching version of cd to gc on line 32\n",
    "\n",
    "#for microsoft edge browser\n",
    "from msedge.selenium_tools import Edge, EdgeOptions \n",
    "import csv"
   ]
  },
  {
   "cell_type": "code",
   "execution_count": 187,
   "id": "482ee547-a7ad-4f23-a10b-4649e8807c2e",
   "metadata": {},
   "outputs": [],
   "source": [
    "url ='https://www.amazon.com/s?k=data%2Banalyst%2Btshirt&crid=1R77KZU2B6RQD&sprefix=data%2Banalyst%2Btshirt%2Caps%2C666&ref=nb_sb_noss_1'\n",
    "\n",
    "page = driver.get(url)\n"
   ]
  },
  {
   "cell_type": "code",
   "execution_count": 4,
   "id": "e66c522f-f884-4471-9da9-ccd81ae0280a",
   "metadata": {},
   "outputs": [],
   "source": [
    "soup1 = BeautifulSoup (driver.page_source, 'html.parser')  #the website is a doctype html and this code pulls in everthing\n"
   ]
  },
  {
   "cell_type": "code",
   "execution_count": 5,
   "id": "0db7ab12-af87-45e7-bd6f-76c7d0d59020",
   "metadata": {},
   "outputs": [],
   "source": [
    "soup2 =BeautifulSoup(soup1.prettify(), 'html.parser')"
   ]
  },
  {
   "cell_type": "code",
   "execution_count": 9,
   "id": "dd1617fb-d53f-41d0-89c6-393b08b79878",
   "metadata": {},
   "outputs": [],
   "source": [
    "soup_results = soup2.find_all('div', {'data-component-type':'s-search-result'}) #it has pulled up records from that whole component search "
   ]
  },
  {
   "cell_type": "code",
   "execution_count": 11,
   "id": "9dc70cde-e14e-4ae8-b33a-0a3b337760ee",
   "metadata": {},
   "outputs": [
    {
     "data": {
      "text/plain": [
       "60"
      ]
     },
     "execution_count": 11,
     "metadata": {},
     "output_type": "execute_result"
    }
   ],
   "source": [
    "len(soup_results)"
   ]
  },
  {
   "cell_type": "code",
   "execution_count": 17,
   "id": "ca42133a-f789-4fb9-b732-9f288ec4a055",
   "metadata": {},
   "outputs": [],
   "source": [
    "TS3 = soup_results[3] #i want to work with tshirt no 3 on the list starting from 0\n",
    "#TS3"
   ]
  },
  {
   "cell_type": "code",
   "execution_count": 108,
   "id": "97aca308-420b-47fb-b29d-d357e1675d81",
   "metadata": {},
   "outputs": [],
   "source": [
    "title =TS3.h2.a.text.strip() #h2 is just a tag to define the HTML headings"
   ]
  },
  {
   "cell_type": "code",
   "execution_count": 109,
   "id": "8bdb1cda-d48b-4687-9d75-25c28f42b2f5",
   "metadata": {},
   "outputs": [
    {
     "name": "stdout",
     "output_type": "stream",
     "text": [
      "Funny Got Data MIS Data Systems Business Analyst T-Shirt\n"
     ]
    }
   ],
   "source": [
    "print(title)"
   ]
  },
  {
   "cell_type": "code",
   "execution_count": 105,
   "id": "bfc3a205-899c-47c7-8232-693c48691e07",
   "metadata": {},
   "outputs": [
    {
     "data": {
      "text/plain": [
       "<span class=\"a-price\" data-a-color=\"base\" data-a-size=\"xl\">\n",
       "<span class=\"a-offscreen\">\n",
       "                    $16.99\n",
       "                   </span>\n",
       "<span aria-hidden=\"true\">\n",
       "<span class=\"a-price-symbol\">\n",
       "                     $\n",
       "                    </span>\n",
       "<span class=\"a-price-whole\">\n",
       "                     16\n",
       "                     <span class=\"a-price-decimal\">\n",
       "                      .\n",
       "                     </span>\n",
       "</span>\n",
       "<span class=\"a-price-fraction\">\n",
       "                     99\n",
       "                    </span>\n",
       "</span>\n",
       "</span>"
      ]
     },
     "execution_count": 105,
     "metadata": {},
     "output_type": "execute_result"
    }
   ],
   "source": [
    "parent=TS3.find('span','a-price')\n",
    "parent"
   ]
  },
  {
   "cell_type": "code",
   "execution_count": 118,
   "id": "714be639-139f-4e71-b457-bb4df3165e69",
   "metadata": {},
   "outputs": [],
   "source": [
    "price =TS3.find('span','a-offscreen').text"
   ]
  },
  {
   "cell_type": "code",
   "execution_count": 119,
   "id": "c93f1749-1609-4380-9248-530037dfd40e",
   "metadata": {},
   "outputs": [
    {
     "name": "stdout",
     "output_type": "stream",
     "text": [
      "\n",
      "                    $16.99\n",
      "                   \n"
     ]
    }
   ],
   "source": [
    "print(price)"
   ]
  },
  {
   "cell_type": "code",
   "execution_count": 122,
   "id": "dbb43507-c7e9-43d3-9bd6-7c4e6c63c309",
   "metadata": {},
   "outputs": [
    {
     "name": "stdout",
     "output_type": "stream",
     "text": [
      "$16.99\n"
     ]
    }
   ],
   "source": [
    "price =price.strip()\n",
    "print(price)"
   ]
  },
  {
   "cell_type": "code",
   "execution_count": 94,
   "id": "abd5ddfc-3b47-4f38-bf1b-efcb4b3f34f8",
   "metadata": {},
   "outputs": [
    {
     "name": "stdout",
     "output_type": "stream",
     "text": [
      "16.99\n"
     ]
    }
   ],
   "source": [
    "#price =print(price.strip()[1:]) #this fxn removes what ever is in the front e.g like the currency. \n",
    "#price                   #note dat the more you run this particular code the more it keeps remving values in front"
   ]
  },
  {
   "cell_type": "code",
   "execution_count": 88,
   "id": "515e380c-4e32-496e-a025-2fb66ecb5dfa",
   "metadata": {},
   "outputs": [
    {
     "name": "stdout",
     "output_type": "stream",
     "text": [
      "\n",
      "                      4.9 out of 5 stars\n",
      "                     \n"
     ]
    }
   ],
   "source": [
    "rate= TS3.find('span', 'a-icon-alt').text\n",
    "print(rate)"
   ]
  },
  {
   "cell_type": "code",
   "execution_count": 89,
   "id": "c86c188c-6d32-4f20-9c59-f177166a3373",
   "metadata": {},
   "outputs": [
    {
     "name": "stdout",
     "output_type": "stream",
     "text": [
      "4.9 out of 5 stars\n"
     ]
    }
   ],
   "source": [
    "rate =rate.strip()\n",
    "print(rate)"
   ]
  },
  {
   "cell_type": "code",
   "execution_count": 52,
   "id": "43fb7bc3-a43e-44a8-80c6-14ff8e01ab60",
   "metadata": {},
   "outputs": [
    {
     "name": "stdout",
     "output_type": "stream",
     "text": [
      "\n",
      "                   4.9\n",
      "                  \n"
     ]
    }
   ],
   "source": [
    "rates= TS3.find('span', 'a-size-base').text\n",
    "print(rates)"
   ]
  },
  {
   "cell_type": "code",
   "execution_count": 134,
   "id": "e4b622c3-fc0e-487e-b507-0ae9e1f6363b",
   "metadata": {},
   "outputs": [
    {
     "name": "stdout",
     "output_type": "stream",
     "text": [
      "Funny Got Data MIS Data Systems Business Analyst T-Shirt\n",
      "$16.99\n",
      "4.9 out of 5 stars\n"
     ]
    }
   ],
   "source": [
    "print(title)\n",
    "print(price)\n",
    "print(rate)"
   ]
  },
  {
   "cell_type": "code",
   "execution_count": 127,
   "id": "73a323b9-05f3-4357-9d34-b66da2481192",
   "metadata": {},
   "outputs": [],
   "source": [
    "from selenium import webdriver\n",
    "import chromedriver_binary\n",
    "from bs4 import BeautifulSoup\n",
    "\n",
    "\n",
    "#for microsoft edge browser\n",
    "from msedge.selenium_tools import Edge, EdgeOptions \n",
    "import csv"
   ]
  },
  {
   "cell_type": "code",
   "execution_count": 177,
   "id": "ac24093d-3bcc-442a-a5bc-cb067e187f39",
   "metadata": {},
   "outputs": [],
   "source": [
    "import csv\n",
    "with open ('AmazonWSDatasets.csv', 'w',newline='',encoding ='utf-8') as f:\n",
    "    writer = csv.writer(f)\n",
    "    writer.writerow(['Title', 'Price', 'Rate']) #This will be the column names.. the header contains the columns\n",
    "    writer.writerow([title, price, rate]) #to fill the data points with everything extracted  "
   ]
  },
  {
   "cell_type": "code",
   "execution_count": null,
   "id": "5ee4d4f3-9acb-4912-86c9-c3611ad22a12",
   "metadata": {},
   "outputs": [],
   "source": [
    "# Apparently there is a diff between writerow() and writerows() "
   ]
  },
  {
   "cell_type": "code",
   "execution_count": 83,
   "id": "7633213c-91d2-4c63-8266-9b8005a256e8",
   "metadata": {},
   "outputs": [
    {
     "data": {
      "text/plain": [
       "'C:\\\\Users\\\\Eugochi'"
      ]
     },
     "execution_count": 83,
     "metadata": {},
     "output_type": "execute_result"
    }
   ],
   "source": [
    "pwd"
   ]
  },
  {
   "cell_type": "code",
   "execution_count": 178,
   "id": "f944d733-059f-4e73-a88f-03a88e4ff2f0",
   "metadata": {},
   "outputs": [
    {
     "data": {
      "text/html": [
       "<div>\n",
       "<style scoped>\n",
       "    .dataframe tbody tr th:only-of-type {\n",
       "        vertical-align: middle;\n",
       "    }\n",
       "\n",
       "    .dataframe tbody tr th {\n",
       "        vertical-align: top;\n",
       "    }\n",
       "\n",
       "    .dataframe thead th {\n",
       "        text-align: right;\n",
       "    }\n",
       "</style>\n",
       "<table border=\"1\" class=\"dataframe\">\n",
       "  <thead>\n",
       "    <tr style=\"text-align: right;\">\n",
       "      <th></th>\n",
       "      <th>Title</th>\n",
       "      <th>Price</th>\n",
       "      <th>Rate</th>\n",
       "    </tr>\n",
       "  </thead>\n",
       "  <tbody>\n",
       "    <tr>\n",
       "      <th>0</th>\n",
       "      <td>Funny Got Data MIS Data Systems Business Analy...</td>\n",
       "      <td>$16.99</td>\n",
       "      <td>4.9 out of 5 stars</td>\n",
       "    </tr>\n",
       "  </tbody>\n",
       "</table>\n",
       "</div>"
      ],
      "text/plain": [
       "                                               Title   Price  \\\n",
       "0  Funny Got Data MIS Data Systems Business Analy...  $16.99   \n",
       "\n",
       "                 Rate  \n",
       "0  4.9 out of 5 stars  "
      ]
     },
     "execution_count": 178,
     "metadata": {},
     "output_type": "execute_result"
    }
   ],
   "source": [
    "df =pd.read_csv ('AmazonWSDatasets.csv')\n",
    "df"
   ]
  },
  {
   "cell_type": "code",
   "execution_count": 179,
   "id": "fd196cff-90f9-4cf0-a583-4bc00268bab2",
   "metadata": {},
   "outputs": [
    {
     "name": "stdout",
     "output_type": "stream",
     "text": [
      "2023-04-07\n"
     ]
    }
   ],
   "source": [
    "today = datetime.date.today()\n",
    "print(today)"
   ]
  },
  {
   "cell_type": "code",
   "execution_count": 180,
   "id": "55504944-a20d-4735-a35a-16a5e86b4cfd",
   "metadata": {},
   "outputs": [],
   "source": [
    "#here we are not appending but adding a new column name\n",
    "with open ('AmazonWSDatasets.csv', 'w',newline='',encoding ='utf-8') as f:\n",
    "    writer = csv.writer(f)\n",
    "    writer.writerow(['Title', 'Price', 'Rate', 'Date']) #This will be the column names.. the header contains the columns\n",
    "    writer.writerow([title, price, rate, today]) #to fill the data points with everything extracted  "
   ]
  },
  {
   "cell_type": "code",
   "execution_count": 174,
   "id": "56201968-6c02-4bdd-9817-de2209079ace",
   "metadata": {},
   "outputs": [],
   "source": [
    "#df['Date'] =today = datetime.date.today() # can decide to add date or new columns like this\n",
    "#however adding it like this may not reflect properly at the csv file but willl open accurately here so be careful"
   ]
  },
  {
   "cell_type": "code",
   "execution_count": 181,
   "id": "cfbc76ed-6845-40d0-958b-d2e0971158f7",
   "metadata": {},
   "outputs": [
    {
     "data": {
      "text/html": [
       "<div>\n",
       "<style scoped>\n",
       "    .dataframe tbody tr th:only-of-type {\n",
       "        vertical-align: middle;\n",
       "    }\n",
       "\n",
       "    .dataframe tbody tr th {\n",
       "        vertical-align: top;\n",
       "    }\n",
       "\n",
       "    .dataframe thead th {\n",
       "        text-align: right;\n",
       "    }\n",
       "</style>\n",
       "<table border=\"1\" class=\"dataframe\">\n",
       "  <thead>\n",
       "    <tr style=\"text-align: right;\">\n",
       "      <th></th>\n",
       "      <th>Title</th>\n",
       "      <th>Price</th>\n",
       "      <th>Rate</th>\n",
       "      <th>Date</th>\n",
       "    </tr>\n",
       "  </thead>\n",
       "  <tbody>\n",
       "    <tr>\n",
       "      <th>0</th>\n",
       "      <td>Funny Got Data MIS Data Systems Business Analy...</td>\n",
       "      <td>$16.99</td>\n",
       "      <td>4.9 out of 5 stars</td>\n",
       "      <td>2023-04-07</td>\n",
       "    </tr>\n",
       "  </tbody>\n",
       "</table>\n",
       "</div>"
      ],
      "text/plain": [
       "                                               Title   Price  \\\n",
       "0  Funny Got Data MIS Data Systems Business Analy...  $16.99   \n",
       "\n",
       "                 Rate        Date  \n",
       "0  4.9 out of 5 stars  2023-04-07  "
      ]
     },
     "execution_count": 181,
     "metadata": {},
     "output_type": "execute_result"
    }
   ],
   "source": [
    "df =pd.read_csv ('AmazonWSDatasets.csv')\n",
    "df"
   ]
  },
  {
   "cell_type": "code",
   "execution_count": null,
   "id": "3cb535d9-8bc2-499b-a0a4-1b192a119367",
   "metadata": {},
   "outputs": [],
   "source": [
    "#to append data just incase you get new data coming in everyday, just run the code manually\n",
    "#it will extract data from the url and check for updates on the same item as often as you want hrly , daily, weekly\n",
    "#with open ('AmazonWSDatasets.csv', 'a+',newline='',encoding ='utf-8') as f:\n",
    "    #writer = csv.writer(f)  #we removed the header names\n",
    "    #writer.writerow([title, price, rate, today]) #to fill the data points with everything extracted  "
   ]
  },
  {
   "cell_type": "code",
   "execution_count": 182,
   "id": "d676e0c5-decf-4c38-8e59-e37fb7a6438c",
   "metadata": {},
   "outputs": [],
   "source": [
    "#to prevent running the code above manually, you can do it this way\n",
    "\n",
    "def check_price():  #to automatically check price\n",
    "    url ='https://www.amazon.com/s?k=data%2Banalyst%2Btshirt&crid=1R77KZU2B6RQD&sprefix=data%2Banalyst%2Btshirt%2Caps%2C666&ref=nb_sb_noss_1'\n",
    "    driver = webdriver.Chrome(executable_path = \"Documents/Data Anaytics Dr Briit/chromedriver.exe\")\n",
    "    page = driver.get(url)\n",
    "    soup1 = BeautifulSoup (driver.page_source, 'html.parser')\n",
    "    soup2 =BeautifulSoup(soup1.prettify(), 'html.parser')\n",
    "    title =TS3.h2.a.text.strip()\n",
    "    price =TS3.find('span','a-offscreen').text\n",
    "    rate= TS3.find('span', 'a-icon-alt').text\n",
    "\n",
    "    price =price.strip()\n",
    "    rate =rate.strip()\n",
    "    today = datetime.date.today()\n",
    "\n",
    "import csv\n",
    "\n",
    "header= ['Title', 'Price','Rate', 'Date']\n",
    "data = [title,price, rate, today]\n",
    "with open ('AmazonWSDatasets.csv', 'a+',newline='',encoding ='utf-8') as f: #use append +\n",
    "    writer = csv.writer(f) # remove headers and leave only data\n",
    "    writer.writerow(data) #to fill the data points with everything extracted  \n",
    "    \n",
    "    #EVERYTIME I RUN THIS CODE IT WILL ADD A NEW LINE OF DATA... SAME DATA THO UNLESS THERE IS A PRICE CHANGE"
   ]
  },
  {
   "cell_type": "markdown",
   "id": "70b80ccd-76fd-467e-a7cc-657bbe46ab7b",
   "metadata": {},
   "source": [
    "# building an auto fxn to check price"
   ]
  },
  {
   "cell_type": "code",
   "execution_count": null,
   "id": "b2b0f46a-b72b-4d88-9e6d-34422211edec",
   "metadata": {},
   "outputs": [],
   "source": [
    "#to run every 5 secs or(how many secs you want)to check for price updates inacse of any price change.\n",
    "#due to drivers being used it will open the web page ultiple times trying to check for updates\n",
    "#in summary this code will check price every 5 secs\n",
    "while(True):\n",
    "    check_price()\n",
    "    time.sleep(5)"
   ]
  },
  {
   "cell_type": "code",
   "execution_count": 183,
   "id": "fce1ea80-35b0-4b9f-837e-9e4ed99947b1",
   "metadata": {},
   "outputs": [
    {
     "data": {
      "text/html": [
       "<div>\n",
       "<style scoped>\n",
       "    .dataframe tbody tr th:only-of-type {\n",
       "        vertical-align: middle;\n",
       "    }\n",
       "\n",
       "    .dataframe tbody tr th {\n",
       "        vertical-align: top;\n",
       "    }\n",
       "\n",
       "    .dataframe thead th {\n",
       "        text-align: right;\n",
       "    }\n",
       "</style>\n",
       "<table border=\"1\" class=\"dataframe\">\n",
       "  <thead>\n",
       "    <tr style=\"text-align: right;\">\n",
       "      <th></th>\n",
       "      <th>Title</th>\n",
       "      <th>Price</th>\n",
       "      <th>Rate</th>\n",
       "      <th>Date</th>\n",
       "    </tr>\n",
       "  </thead>\n",
       "  <tbody>\n",
       "    <tr>\n",
       "      <th>0</th>\n",
       "      <td>Funny Got Data MIS Data Systems Business Analy...</td>\n",
       "      <td>$16.99</td>\n",
       "      <td>4.9 out of 5 stars</td>\n",
       "      <td>2023-04-07</td>\n",
       "    </tr>\n",
       "    <tr>\n",
       "      <th>1</th>\n",
       "      <td>Funny Got Data MIS Data Systems Business Analy...</td>\n",
       "      <td>$16.99</td>\n",
       "      <td>4.9 out of 5 stars</td>\n",
       "      <td>2023-04-07</td>\n",
       "    </tr>\n",
       "  </tbody>\n",
       "</table>\n",
       "</div>"
      ],
      "text/plain": [
       "                                               Title   Price  \\\n",
       "0  Funny Got Data MIS Data Systems Business Analy...  $16.99   \n",
       "1  Funny Got Data MIS Data Systems Business Analy...  $16.99   \n",
       "\n",
       "                 Rate        Date  \n",
       "0  4.9 out of 5 stars  2023-04-07  \n",
       "1  4.9 out of 5 stars  2023-04-07  "
      ]
     },
     "execution_count": 183,
     "metadata": {},
     "output_type": "execute_result"
    }
   ],
   "source": [
    "df =pd.read_csv ('AmazonWSDatasets.csv') #the num of times you run the code the more lines it creates\n",
    "df"
   ]
  },
  {
   "cell_type": "code",
   "execution_count": null,
   "id": "aea4cef5-3b43-4b41-b85f-a6a778eb0c26",
   "metadata": {},
   "outputs": [],
   "source": [
    "\n",
    "\n",
    "#the email shoot thing"
   ]
  }
 ],
 "metadata": {
  "kernelspec": {
   "display_name": "Python 3 (ipykernel)",
   "language": "python",
   "name": "python3"
  },
  "language_info": {
   "codemirror_mode": {
    "name": "ipython",
    "version": 3
   },
   "file_extension": ".py",
   "mimetype": "text/x-python",
   "name": "python",
   "nbconvert_exporter": "python",
   "pygments_lexer": "ipython3",
   "version": "3.9.12"
  }
 },
 "nbformat": 4,
 "nbformat_minor": 5
}
