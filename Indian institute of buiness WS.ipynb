{
 "cells": [
  {
   "cell_type": "code",
   "execution_count": 169,
   "id": "51446677-bf4e-496a-8e59-ce922513ae4f",
   "metadata": {},
   "outputs": [],
   "source": [
    "import pandas as pd\n",
    "import numpy as np\n",
    "import matplotlib.pyplot as plt\n",
    "import seaborn as sns\n",
    "import requests\n",
    "import smtplib\n",
    "import time\n",
    "import datetime\n",
    "from bs4 import BeautifulSoup\n",
    "%matplotlib inline\n",
    "from selenium import webdriver\n",
    "import chromedriver_binary"
   ]
  },
  {
   "cell_type": "code",
   "execution_count": 108,
   "id": "ed4fc4ad-e945-45bf-94c9-133bec549257",
   "metadata": {},
   "outputs": [],
   "source": [
    "joblink= pd.read_csv('Documents/Data Anaytics Dr Briit/link_by_areas - link_by_areas.csv')"
   ]
  },
  {
   "cell_type": "code",
   "execution_count": 109,
   "id": "a043fba0-64bc-49e0-aa89-9e891ac0abfc",
   "metadata": {},
   "outputs": [
    {
     "data": {
      "text/html": [
       "<div>\n",
       "<style scoped>\n",
       "    .dataframe tbody tr th:only-of-type {\n",
       "        vertical-align: middle;\n",
       "    }\n",
       "\n",
       "    .dataframe tbody tr th {\n",
       "        vertical-align: top;\n",
       "    }\n",
       "\n",
       "    .dataframe thead th {\n",
       "        text-align: right;\n",
       "    }\n",
       "</style>\n",
       "<table border=\"1\" class=\"dataframe\">\n",
       "  <thead>\n",
       "    <tr style=\"text-align: right;\">\n",
       "      <th></th>\n",
       "      <th>type</th>\n",
       "      <th>link</th>\n",
       "    </tr>\n",
       "  </thead>\n",
       "  <tbody>\n",
       "    <tr>\n",
       "      <th>0</th>\n",
       "      <td>Accounting Jobs</td>\n",
       "      <td>https://www.naukri.com/accounting-jobs?xt=cats...</td>\n",
       "    </tr>\n",
       "    <tr>\n",
       "      <th>1</th>\n",
       "      <td>Interior Design Jobs</td>\n",
       "      <td>https://www.naukri.com/interior-design-jobs?xt...</td>\n",
       "    </tr>\n",
       "    <tr>\n",
       "      <th>2</th>\n",
       "      <td>Bank Jobs</td>\n",
       "      <td>https://www.naukri.com/bank-jobs?xt=catsrch&amp;qf...</td>\n",
       "    </tr>\n",
       "    <tr>\n",
       "      <th>3</th>\n",
       "      <td>Content Writing Jobs</td>\n",
       "      <td>https://www.naukri.com/content-writing-jobs?xt...</td>\n",
       "    </tr>\n",
       "    <tr>\n",
       "      <th>4</th>\n",
       "      <td>Consultant Jobs</td>\n",
       "      <td>https://www.naukri.com/consultant-jobs?xt=cats...</td>\n",
       "    </tr>\n",
       "    <tr>\n",
       "      <th>5</th>\n",
       "      <td>Engineering Jobs</td>\n",
       "      <td>https://www.naukri.com/engineering-jobs?xt=cat...</td>\n",
       "    </tr>\n",
       "    <tr>\n",
       "      <th>6</th>\n",
       "      <td>Export Import Jobs</td>\n",
       "      <td>https://www.naukri.com/export-import-jobs?xt=c...</td>\n",
       "    </tr>\n",
       "    <tr>\n",
       "      <th>7</th>\n",
       "      <td>Merchandiser Jobs</td>\n",
       "      <td>https://www.naukri.com/merchandiser-jobs?xt=ca...</td>\n",
       "    </tr>\n",
       "    <tr>\n",
       "      <th>8</th>\n",
       "      <td>Security Jobs</td>\n",
       "      <td>https://www.naukri.com/security-jobs?xt=catsrc...</td>\n",
       "    </tr>\n",
       "    <tr>\n",
       "      <th>9</th>\n",
       "      <td>HR Jobs</td>\n",
       "      <td>https://www.naukri.com/hr-jobs?xt=catsrch&amp;qf[]=12</td>\n",
       "    </tr>\n",
       "    <tr>\n",
       "      <th>10</th>\n",
       "      <td>Hotel Jobs</td>\n",
       "      <td>https://www.naukri.com/hotel-jobs?xt=catsrch&amp;q...</td>\n",
       "    </tr>\n",
       "    <tr>\n",
       "      <th>11</th>\n",
       "      <td>Application Programming Jobs</td>\n",
       "      <td>https://www.naukri.com/application-programming...</td>\n",
       "    </tr>\n",
       "    <tr>\n",
       "      <th>12</th>\n",
       "      <td>Client Server Jobs</td>\n",
       "      <td>https://www.naukri.com/client-server-jobs?xt=c...</td>\n",
       "    </tr>\n",
       "    <tr>\n",
       "      <th>13</th>\n",
       "      <td>DBA Jobs</td>\n",
       "      <td>https://www.naukri.com/dba-jobs?xt=catsrch&amp;qf[...</td>\n",
       "    </tr>\n",
       "    <tr>\n",
       "      <th>14</th>\n",
       "      <td>Ecommerce Jobs</td>\n",
       "      <td>https://www.naukri.com/ecommerce-jobs?xt=catsr...</td>\n",
       "    </tr>\n",
       "    <tr>\n",
       "      <th>15</th>\n",
       "      <td>ERP Jobs</td>\n",
       "      <td>https://www.naukri.com/erp-jobs?xt=catsrch&amp;qf[...</td>\n",
       "    </tr>\n",
       "    <tr>\n",
       "      <th>16</th>\n",
       "      <td>VLSI Jobs</td>\n",
       "      <td>https://www.naukri.com/vlsi-jobs?xt=catsrch&amp;qf...</td>\n",
       "    </tr>\n",
       "    <tr>\n",
       "      <th>17</th>\n",
       "      <td>Mainframe Jobs</td>\n",
       "      <td>https://www.naukri.com/mainframe-jobs?xt=catsr...</td>\n",
       "    </tr>\n",
       "    <tr>\n",
       "      <th>18</th>\n",
       "      <td>Middleware Jobs</td>\n",
       "      <td>https://www.naukri.com/middleware-jobs?xt=cats...</td>\n",
       "    </tr>\n",
       "    <tr>\n",
       "      <th>19</th>\n",
       "      <td>Mobile Jobs</td>\n",
       "      <td>https://www.naukri.com/mobile-jobs?xt=catsrch&amp;...</td>\n",
       "    </tr>\n",
       "    <tr>\n",
       "      <th>20</th>\n",
       "      <td>Network administrator Jobs</td>\n",
       "      <td>https://www.naukri.com/network-administrator-j...</td>\n",
       "    </tr>\n",
       "    <tr>\n",
       "      <th>21</th>\n",
       "      <td>IT Jobs</td>\n",
       "      <td>https://www.naukri.com/information-technology-...</td>\n",
       "    </tr>\n",
       "    <tr>\n",
       "      <th>22</th>\n",
       "      <td>Testing Jobs</td>\n",
       "      <td>https://www.naukri.com/testing-jobs?xt=catsrch...</td>\n",
       "    </tr>\n",
       "    <tr>\n",
       "      <th>23</th>\n",
       "      <td>System Programming Jobs</td>\n",
       "      <td>https://www.naukri.com/system-programming-jobs...</td>\n",
       "    </tr>\n",
       "    <tr>\n",
       "      <th>24</th>\n",
       "      <td>EDP Jobs</td>\n",
       "      <td>https://www.naukri.com/edp-jobs?xt=catsrch&amp;qf[...</td>\n",
       "    </tr>\n",
       "    <tr>\n",
       "      <th>25</th>\n",
       "      <td>Telecom Software Jobs</td>\n",
       "      <td>https://www.naukri.com/telecom-software-jobs?x...</td>\n",
       "    </tr>\n",
       "    <tr>\n",
       "      <th>26</th>\n",
       "      <td>Telecom Jobs</td>\n",
       "      <td>https://www.naukri.com/telecom-jobs?xt=catsrch...</td>\n",
       "    </tr>\n",
       "    <tr>\n",
       "      <th>27</th>\n",
       "      <td>BPO Jobs</td>\n",
       "      <td>https://www.naukri.com/bpo-jobs?xt=catsrch&amp;qf[]=8</td>\n",
       "    </tr>\n",
       "    <tr>\n",
       "      <th>28</th>\n",
       "      <td>Legal Jobs</td>\n",
       "      <td>https://www.naukri.com/legal-jobs?xt=catsrch&amp;q...</td>\n",
       "    </tr>\n",
       "    <tr>\n",
       "      <th>29</th>\n",
       "      <td>Marketing Jobs</td>\n",
       "      <td>https://www.naukri.com/marketing-jobs?xt=catsr...</td>\n",
       "    </tr>\n",
       "    <tr>\n",
       "      <th>30</th>\n",
       "      <td>Packaging Jobs</td>\n",
       "      <td>https://www.naukri.com/packaging-jobs?xt=catsr...</td>\n",
       "    </tr>\n",
       "    <tr>\n",
       "      <th>31</th>\n",
       "      <td>Pharma Jobs</td>\n",
       "      <td>https://www.naukri.com/pharma-jobs?xt=catsrch&amp;...</td>\n",
       "    </tr>\n",
       "    <tr>\n",
       "      <th>32</th>\n",
       "      <td>Maintenance Jobs</td>\n",
       "      <td>https://www.naukri.com/maintenance-jobs?xt=cat...</td>\n",
       "    </tr>\n",
       "    <tr>\n",
       "      <th>33</th>\n",
       "      <td>Logistics Jobs</td>\n",
       "      <td>https://www.naukri.com/logistics-jobs?xt=catsr...</td>\n",
       "    </tr>\n",
       "    <tr>\n",
       "      <th>34</th>\n",
       "      <td>Sales Jobs</td>\n",
       "      <td>https://www.naukri.com/sales-jobs?xt=catsrch&amp;q...</td>\n",
       "    </tr>\n",
       "    <tr>\n",
       "      <th>35</th>\n",
       "      <td>Secretary Jobs</td>\n",
       "      <td>https://www.naukri.com/secretary-jobs?xt=catsr...</td>\n",
       "    </tr>\n",
       "    <tr>\n",
       "      <th>36</th>\n",
       "      <td>Corporate Planning Jobs</td>\n",
       "      <td>https://www.naukri.com/corporate-planning-jobs...</td>\n",
       "    </tr>\n",
       "    <tr>\n",
       "      <th>37</th>\n",
       "      <td>Site Engineering Jobs</td>\n",
       "      <td>https://www.naukri.com/site-engineering-jobs?x...</td>\n",
       "    </tr>\n",
       "    <tr>\n",
       "      <th>38</th>\n",
       "      <td>Film Jobs</td>\n",
       "      <td>https://www.naukri.com/film-jobs?xt=catsrch&amp;qf...</td>\n",
       "    </tr>\n",
       "    <tr>\n",
       "      <th>39</th>\n",
       "      <td>Teacher Jobs</td>\n",
       "      <td>https://www.naukri.com/teaching-jobs?xt=catsrc...</td>\n",
       "    </tr>\n",
       "    <tr>\n",
       "      <th>40</th>\n",
       "      <td>Airline Jobs</td>\n",
       "      <td>https://www.naukri.com/airline-jobs?xt=catsrch...</td>\n",
       "    </tr>\n",
       "    <tr>\n",
       "      <th>41</th>\n",
       "      <td>Graphic Designer Jobs</td>\n",
       "      <td>https://www.naukri.com/graphic-designer-jobs?x...</td>\n",
       "    </tr>\n",
       "    <tr>\n",
       "      <th>42</th>\n",
       "      <td>Shipping Jobs</td>\n",
       "      <td>https://www.naukri.com/shipping-jobs?xt=catsrc...</td>\n",
       "    </tr>\n",
       "    <tr>\n",
       "      <th>43</th>\n",
       "      <td>Analytics Jobs</td>\n",
       "      <td>https://www.naukri.com/analytics-jobs?xt=catsr...</td>\n",
       "    </tr>\n",
       "    <tr>\n",
       "      <th>44</th>\n",
       "      <td>Business Intelligence Jobs</td>\n",
       "      <td>https://www.naukri.com/business-intelligence-j...</td>\n",
       "    </tr>\n",
       "  </tbody>\n",
       "</table>\n",
       "</div>"
      ],
      "text/plain": [
       "                            type  \\\n",
       "0                Accounting Jobs   \n",
       "1           Interior Design Jobs   \n",
       "2                      Bank Jobs   \n",
       "3           Content Writing Jobs   \n",
       "4                Consultant Jobs   \n",
       "5               Engineering Jobs   \n",
       "6             Export Import Jobs   \n",
       "7              Merchandiser Jobs   \n",
       "8                  Security Jobs   \n",
       "9                        HR Jobs   \n",
       "10                    Hotel Jobs   \n",
       "11  Application Programming Jobs   \n",
       "12            Client Server Jobs   \n",
       "13                      DBA Jobs   \n",
       "14                Ecommerce Jobs   \n",
       "15                      ERP Jobs   \n",
       "16                     VLSI Jobs   \n",
       "17                Mainframe Jobs   \n",
       "18               Middleware Jobs   \n",
       "19                   Mobile Jobs   \n",
       "20    Network administrator Jobs   \n",
       "21                       IT Jobs   \n",
       "22                  Testing Jobs   \n",
       "23       System Programming Jobs   \n",
       "24                      EDP Jobs   \n",
       "25         Telecom Software Jobs   \n",
       "26                  Telecom Jobs   \n",
       "27                      BPO Jobs   \n",
       "28                    Legal Jobs   \n",
       "29                Marketing Jobs   \n",
       "30                Packaging Jobs   \n",
       "31                   Pharma Jobs   \n",
       "32              Maintenance Jobs   \n",
       "33                Logistics Jobs   \n",
       "34                    Sales Jobs   \n",
       "35                Secretary Jobs   \n",
       "36       Corporate Planning Jobs   \n",
       "37         Site Engineering Jobs   \n",
       "38                     Film Jobs   \n",
       "39                  Teacher Jobs   \n",
       "40                  Airline Jobs   \n",
       "41         Graphic Designer Jobs   \n",
       "42                 Shipping Jobs   \n",
       "43                Analytics Jobs   \n",
       "44    Business Intelligence Jobs   \n",
       "\n",
       "                                                 link  \n",
       "0   https://www.naukri.com/accounting-jobs?xt=cats...  \n",
       "1   https://www.naukri.com/interior-design-jobs?xt...  \n",
       "2   https://www.naukri.com/bank-jobs?xt=catsrch&qf...  \n",
       "3   https://www.naukri.com/content-writing-jobs?xt...  \n",
       "4   https://www.naukri.com/consultant-jobs?xt=cats...  \n",
       "5   https://www.naukri.com/engineering-jobs?xt=cat...  \n",
       "6   https://www.naukri.com/export-import-jobs?xt=c...  \n",
       "7   https://www.naukri.com/merchandiser-jobs?xt=ca...  \n",
       "8   https://www.naukri.com/security-jobs?xt=catsrc...  \n",
       "9   https://www.naukri.com/hr-jobs?xt=catsrch&qf[]=12  \n",
       "10  https://www.naukri.com/hotel-jobs?xt=catsrch&q...  \n",
       "11  https://www.naukri.com/application-programming...  \n",
       "12  https://www.naukri.com/client-server-jobs?xt=c...  \n",
       "13  https://www.naukri.com/dba-jobs?xt=catsrch&qf[...  \n",
       "14  https://www.naukri.com/ecommerce-jobs?xt=catsr...  \n",
       "15  https://www.naukri.com/erp-jobs?xt=catsrch&qf[...  \n",
       "16  https://www.naukri.com/vlsi-jobs?xt=catsrch&qf...  \n",
       "17  https://www.naukri.com/mainframe-jobs?xt=catsr...  \n",
       "18  https://www.naukri.com/middleware-jobs?xt=cats...  \n",
       "19  https://www.naukri.com/mobile-jobs?xt=catsrch&...  \n",
       "20  https://www.naukri.com/network-administrator-j...  \n",
       "21  https://www.naukri.com/information-technology-...  \n",
       "22  https://www.naukri.com/testing-jobs?xt=catsrch...  \n",
       "23  https://www.naukri.com/system-programming-jobs...  \n",
       "24  https://www.naukri.com/edp-jobs?xt=catsrch&qf[...  \n",
       "25  https://www.naukri.com/telecom-software-jobs?x...  \n",
       "26  https://www.naukri.com/telecom-jobs?xt=catsrch...  \n",
       "27  https://www.naukri.com/bpo-jobs?xt=catsrch&qf[]=8  \n",
       "28  https://www.naukri.com/legal-jobs?xt=catsrch&q...  \n",
       "29  https://www.naukri.com/marketing-jobs?xt=catsr...  \n",
       "30  https://www.naukri.com/packaging-jobs?xt=catsr...  \n",
       "31  https://www.naukri.com/pharma-jobs?xt=catsrch&...  \n",
       "32  https://www.naukri.com/maintenance-jobs?xt=cat...  \n",
       "33  https://www.naukri.com/logistics-jobs?xt=catsr...  \n",
       "34  https://www.naukri.com/sales-jobs?xt=catsrch&q...  \n",
       "35  https://www.naukri.com/secretary-jobs?xt=catsr...  \n",
       "36  https://www.naukri.com/corporate-planning-jobs...  \n",
       "37  https://www.naukri.com/site-engineering-jobs?x...  \n",
       "38  https://www.naukri.com/film-jobs?xt=catsrch&qf...  \n",
       "39  https://www.naukri.com/teaching-jobs?xt=catsrc...  \n",
       "40  https://www.naukri.com/airline-jobs?xt=catsrch...  \n",
       "41  https://www.naukri.com/graphic-designer-jobs?x...  \n",
       "42  https://www.naukri.com/shipping-jobs?xt=catsrc...  \n",
       "43  https://www.naukri.com/analytics-jobs?xt=catsr...  \n",
       "44  https://www.naukri.com/business-intelligence-j...  "
      ]
     },
     "execution_count": 109,
     "metadata": {},
     "output_type": "execute_result"
    }
   ],
   "source": [
    "joblink"
   ]
  },
  {
   "cell_type": "code",
   "execution_count": 112,
   "id": "bb4d21e0-5571-48ba-b099-1c0e2fa82186",
   "metadata": {},
   "outputs": [],
   "source": [
    "urls = joblink['link'].tolist()"
   ]
  },
  {
   "cell_type": "code",
   "execution_count": 113,
   "id": "03ad446a-cd64-4968-8dbf-710a56767cc2",
   "metadata": {},
   "outputs": [
    {
     "data": {
      "text/plain": [
       "['https://www.naukri.com/accounting-jobs?xt=catsrch&qf[]=1',\n",
       " 'https://www.naukri.com/interior-design-jobs?xt=catsrch&qf[]=2',\n",
       " 'https://www.naukri.com/bank-jobs?xt=catsrch&qf[]=6',\n",
       " 'https://www.naukri.com/content-writing-jobs?xt=catsrch&qf[]=5',\n",
       " 'https://www.naukri.com/consultant-jobs?xt=catsrch&qf[]=9',\n",
       " 'https://www.naukri.com/engineering-jobs?xt=catsrch&qf[]=21',\n",
       " 'https://www.naukri.com/export-import-jobs?xt=catsrch&qf[]=10',\n",
       " 'https://www.naukri.com/merchandiser-jobs?xt=catsrch&qf[]=10',\n",
       " 'https://www.naukri.com/security-jobs?xt=catsrch&qf[]=45',\n",
       " 'https://www.naukri.com/hr-jobs?xt=catsrch&qf[]=12',\n",
       " 'https://www.naukri.com/hotel-jobs?xt=catsrch&qf[]=4',\n",
       " 'https://www.naukri.com/application-programming-jobs?xt=catsrch&qf[]=24.01',\n",
       " 'https://www.naukri.com/client-server-jobs?xt=catsrch&qf[]=24.02',\n",
       " 'https://www.naukri.com/dba-jobs?xt=catsrch&qf[]=24.03',\n",
       " 'https://www.naukri.com/ecommerce-jobs?xt=catsrch&qf[]=24.12',\n",
       " 'https://www.naukri.com/erp-jobs?xt=catsrch&qf[]=24.04',\n",
       " 'https://www.naukri.com/vlsi-jobs?xt=catsrch&qf[]=24.05',\n",
       " 'https://www.naukri.com/mainframe-jobs?xt=catsrch&qf[]=24.13',\n",
       " 'https://www.naukri.com/middleware-jobs?xt=catsrch&qf[]=24.15',\n",
       " 'https://www.naukri.com/mobile-jobs?xt=catsrch&qf[]=24.14',\n",
       " 'https://www.naukri.com/network-administrator-jobs?xt=catsrch&qf[]=24.06',\n",
       " 'https://www.naukri.com/information-technology-jobs?xt=catsrch&qf[]=24',\n",
       " 'https://www.naukri.com/testing-jobs?xt=catsrch&qf[]=24.08',\n",
       " 'https://www.naukri.com/system-programming-jobs?xt=catsrch&qf[]=24.09',\n",
       " 'https://www.naukri.com/edp-jobs?xt=catsrch&qf[]=24.11',\n",
       " 'https://www.naukri.com/telecom-software-jobs?xt=catsrch&qf[]=24.10',\n",
       " 'https://www.naukri.com/telecom-jobs?xt=catsrch&qf[]=37',\n",
       " 'https://www.naukri.com/bpo-jobs?xt=catsrch&qf[]=8',\n",
       " 'https://www.naukri.com/legal-jobs?xt=catsrch&qf[]=13',\n",
       " 'https://www.naukri.com/marketing-jobs?xt=catsrch&qf[]=15',\n",
       " 'https://www.naukri.com/packaging-jobs?xt=catsrch&qf[]=18',\n",
       " 'https://www.naukri.com/pharma-jobs?xt=catsrch&qf[]=16',\n",
       " 'https://www.naukri.com/maintenance-jobs?xt=catsrch&qf[]=19',\n",
       " 'https://www.naukri.com/logistics-jobs?xt=catsrch&qf[]=14',\n",
       " 'https://www.naukri.com/sales-jobs?xt=catsrch&qf[]=22',\n",
       " 'https://www.naukri.com/secretary-jobs?xt=catsrch&qf[]=11',\n",
       " 'https://www.naukri.com/corporate-planning-jobs?xt=catsrch&qf[]=7',\n",
       " 'https://www.naukri.com/site-engineering-jobs?xt=catsrch&qf[]=20',\n",
       " 'https://www.naukri.com/film-jobs?xt=catsrch&qf[]=43',\n",
       " 'https://www.naukri.com/teaching-jobs?xt=catsrch&qf[]=36',\n",
       " 'https://www.naukri.com/airline-jobs?xt=catsrch&qf[]=44',\n",
       " 'https://www.naukri.com/graphic-designer-jobs?xt=catsrch&qf[]=3',\n",
       " 'https://www.naukri.com/shipping-jobs?xt=catsrch&qf[]=82',\n",
       " 'https://www.naukri.com/analytics-jobs?xt=catsrch&qf[]=81',\n",
       " 'https://www.naukri.com/business-intelligence-jobs?xt=catsrch&qf[]=81']"
      ]
     },
     "execution_count": 113,
     "metadata": {},
     "output_type": "execute_result"
    }
   ],
   "source": [
    "urls"
   ]
  },
  {
   "cell_type": "code",
   "execution_count": null,
   "id": "06532712-a96e-4df3-90ba-42daab201463",
   "metadata": {},
   "outputs": [],
   "source": [
    "#Yarl - Yet another url lib, it makes it easy to deal with urls"
   ]
  },
  {
   "cell_type": "code",
   "execution_count": 10,
   "id": "bd982814-f027-48da-bef3-00f80eb531db",
   "metadata": {},
   "outputs": [
    {
     "name": "stdout",
     "output_type": "stream",
     "text": [
      "Requirement already satisfied: yarl in c:\\users\\eugochi\\documents\\python folder for ds\\lib\\site-packages (1.6.3)\n",
      "Requirement already satisfied: multidict>=4.0 in c:\\users\\eugochi\\documents\\python folder for ds\\lib\\site-packages (from yarl) (5.1.0)\n",
      "Requirement already satisfied: idna>=2.0 in c:\\users\\eugochi\\documents\\python folder for ds\\lib\\site-packages (from yarl) (3.3)\n"
     ]
    }
   ],
   "source": [
    "!pip install yarl"
   ]
  },
  {
   "cell_type": "code",
   "execution_count": 114,
   "id": "a67e4206-36f3-4c7e-b84e-14d79373c880",
   "metadata": {},
   "outputs": [],
   "source": [
    "import yarl\n",
    "from yarl import URL\n",
    "\n",
    "urlextract= []  #create an empty list to put all the extractions \n",
    "\n",
    "for i in urls:\n",
    "    urlextract.append(URL(i).path) #to print the path"
   ]
  },
  {
   "cell_type": "code",
   "execution_count": 115,
   "id": "03016514-beea-4619-82c3-66b2ed8fabbf",
   "metadata": {},
   "outputs": [
    {
     "data": {
      "text/plain": [
       "['/accounting-jobs',\n",
       " '/interior-design-jobs',\n",
       " '/bank-jobs',\n",
       " '/content-writing-jobs',\n",
       " '/consultant-jobs',\n",
       " '/engineering-jobs',\n",
       " '/export-import-jobs',\n",
       " '/merchandiser-jobs',\n",
       " '/security-jobs',\n",
       " '/hr-jobs',\n",
       " '/hotel-jobs',\n",
       " '/application-programming-jobs',\n",
       " '/client-server-jobs',\n",
       " '/dba-jobs',\n",
       " '/ecommerce-jobs',\n",
       " '/erp-jobs',\n",
       " '/vlsi-jobs',\n",
       " '/mainframe-jobs',\n",
       " '/middleware-jobs',\n",
       " '/mobile-jobs',\n",
       " '/network-administrator-jobs',\n",
       " '/information-technology-jobs',\n",
       " '/testing-jobs',\n",
       " '/system-programming-jobs',\n",
       " '/edp-jobs',\n",
       " '/telecom-software-jobs',\n",
       " '/telecom-jobs',\n",
       " '/bpo-jobs',\n",
       " '/legal-jobs',\n",
       " '/marketing-jobs',\n",
       " '/packaging-jobs',\n",
       " '/pharma-jobs',\n",
       " '/maintenance-jobs',\n",
       " '/logistics-jobs',\n",
       " '/sales-jobs',\n",
       " '/secretary-jobs',\n",
       " '/corporate-planning-jobs',\n",
       " '/site-engineering-jobs',\n",
       " '/film-jobs',\n",
       " '/teaching-jobs',\n",
       " '/airline-jobs',\n",
       " '/graphic-designer-jobs',\n",
       " '/shipping-jobs',\n",
       " '/analytics-jobs',\n",
       " '/business-intelligence-jobs']"
      ]
     },
     "execution_count": 115,
     "metadata": {},
     "output_type": "execute_result"
    }
   ],
   "source": [
    "urlextract"
   ]
  },
  {
   "cell_type": "code",
   "execution_count": null,
   "id": "279407e5-0c33-41ac-8a8e-55a1abc0f5f3",
   "metadata": {},
   "outputs": [],
   "source": [
    "#to extract the last part of the url"
   ]
  },
  {
   "cell_type": "code",
   "execution_count": 119,
   "id": "2c0c012d-10a2-409a-83bb-07f9fa22a859",
   "metadata": {},
   "outputs": [],
   "source": [
    "urlextract2= []\n",
    "\n",
    "for i in urls:\n",
    "    urlextract2.append(URL(i).query_string) #extract query and put in string"
   ]
  },
  {
   "cell_type": "code",
   "execution_count": 120,
   "id": "3cda92fb-1d22-4445-b86b-51690c34c437",
   "metadata": {},
   "outputs": [
    {
     "data": {
      "text/plain": [
       "['xt=catsrch&qf[]=1',\n",
       " 'xt=catsrch&qf[]=2',\n",
       " 'xt=catsrch&qf[]=6',\n",
       " 'xt=catsrch&qf[]=5',\n",
       " 'xt=catsrch&qf[]=9',\n",
       " 'xt=catsrch&qf[]=21',\n",
       " 'xt=catsrch&qf[]=10',\n",
       " 'xt=catsrch&qf[]=10',\n",
       " 'xt=catsrch&qf[]=45',\n",
       " 'xt=catsrch&qf[]=12',\n",
       " 'xt=catsrch&qf[]=4',\n",
       " 'xt=catsrch&qf[]=24.01',\n",
       " 'xt=catsrch&qf[]=24.02',\n",
       " 'xt=catsrch&qf[]=24.03',\n",
       " 'xt=catsrch&qf[]=24.12',\n",
       " 'xt=catsrch&qf[]=24.04',\n",
       " 'xt=catsrch&qf[]=24.05',\n",
       " 'xt=catsrch&qf[]=24.13',\n",
       " 'xt=catsrch&qf[]=24.15',\n",
       " 'xt=catsrch&qf[]=24.14',\n",
       " 'xt=catsrch&qf[]=24.06',\n",
       " 'xt=catsrch&qf[]=24',\n",
       " 'xt=catsrch&qf[]=24.08',\n",
       " 'xt=catsrch&qf[]=24.09',\n",
       " 'xt=catsrch&qf[]=24.11',\n",
       " 'xt=catsrch&qf[]=24.10',\n",
       " 'xt=catsrch&qf[]=37',\n",
       " 'xt=catsrch&qf[]=8',\n",
       " 'xt=catsrch&qf[]=13',\n",
       " 'xt=catsrch&qf[]=15',\n",
       " 'xt=catsrch&qf[]=18',\n",
       " 'xt=catsrch&qf[]=16',\n",
       " 'xt=catsrch&qf[]=19',\n",
       " 'xt=catsrch&qf[]=14',\n",
       " 'xt=catsrch&qf[]=22',\n",
       " 'xt=catsrch&qf[]=11',\n",
       " 'xt=catsrch&qf[]=7',\n",
       " 'xt=catsrch&qf[]=20',\n",
       " 'xt=catsrch&qf[]=43',\n",
       " 'xt=catsrch&qf[]=36',\n",
       " 'xt=catsrch&qf[]=44',\n",
       " 'xt=catsrch&qf[]=3',\n",
       " 'xt=catsrch&qf[]=82',\n",
       " 'xt=catsrch&qf[]=81',\n",
       " 'xt=catsrch&qf[]=81']"
      ]
     },
     "execution_count": 120,
     "metadata": {},
     "output_type": "execute_result"
    }
   ],
   "source": [
    "urlextract2"
   ]
  },
  {
   "cell_type": "markdown",
   "id": "01bd1dc0-bcef-4281-84e8-ceee84258b6b",
   "metadata": {},
   "source": [
    "# Formulating a generic URL"
   ]
  },
  {
   "cell_type": "markdown",
   "id": "3c2f5b65-fd79-4b11-9891-5f2fa1826501",
   "metadata": {},
   "source": [
    "**here we stitch the extracted urls together but this time we will add a placeholder to d job type part of the url"
   ]
  },
  {
   "cell_type": "code",
   "execution_count": 128,
   "id": "9be385bd-ed30-42a6-b6b6-c51419d24478",
   "metadata": {},
   "outputs": [],
   "source": [
    "gen_urls = []\n",
    "\n",
    "for i in range (len(urlextract)): #can also remove the range len fxn\n",
    "    url ='https://www.naukri.com/' + urlextract [1] +'-{}?' + urlextract2[1] #url is not a variable name its the actuall url\n",
    "    gen_urls.append(url) #to append the original url we extracted "
   ]
  },
  {
   "cell_type": "code",
   "execution_count": 129,
   "id": "7e400fa7-0d3c-488e-ac8e-aa7dd0c2d731",
   "metadata": {},
   "outputs": [
    {
     "data": {
      "text/plain": [
       "['https://www.naukri.com//interior-design-jobs-{}?xt=catsrch&qf[]=2',\n",
       " 'https://www.naukri.com//interior-design-jobs-{}?xt=catsrch&qf[]=2',\n",
       " 'https://www.naukri.com//interior-design-jobs-{}?xt=catsrch&qf[]=2',\n",
       " 'https://www.naukri.com//interior-design-jobs-{}?xt=catsrch&qf[]=2',\n",
       " 'https://www.naukri.com//interior-design-jobs-{}?xt=catsrch&qf[]=2',\n",
       " 'https://www.naukri.com//interior-design-jobs-{}?xt=catsrch&qf[]=2',\n",
       " 'https://www.naukri.com//interior-design-jobs-{}?xt=catsrch&qf[]=2',\n",
       " 'https://www.naukri.com//interior-design-jobs-{}?xt=catsrch&qf[]=2',\n",
       " 'https://www.naukri.com//interior-design-jobs-{}?xt=catsrch&qf[]=2',\n",
       " 'https://www.naukri.com//interior-design-jobs-{}?xt=catsrch&qf[]=2',\n",
       " 'https://www.naukri.com//interior-design-jobs-{}?xt=catsrch&qf[]=2',\n",
       " 'https://www.naukri.com//interior-design-jobs-{}?xt=catsrch&qf[]=2',\n",
       " 'https://www.naukri.com//interior-design-jobs-{}?xt=catsrch&qf[]=2',\n",
       " 'https://www.naukri.com//interior-design-jobs-{}?xt=catsrch&qf[]=2',\n",
       " 'https://www.naukri.com//interior-design-jobs-{}?xt=catsrch&qf[]=2',\n",
       " 'https://www.naukri.com//interior-design-jobs-{}?xt=catsrch&qf[]=2',\n",
       " 'https://www.naukri.com//interior-design-jobs-{}?xt=catsrch&qf[]=2',\n",
       " 'https://www.naukri.com//interior-design-jobs-{}?xt=catsrch&qf[]=2',\n",
       " 'https://www.naukri.com//interior-design-jobs-{}?xt=catsrch&qf[]=2',\n",
       " 'https://www.naukri.com//interior-design-jobs-{}?xt=catsrch&qf[]=2',\n",
       " 'https://www.naukri.com//interior-design-jobs-{}?xt=catsrch&qf[]=2',\n",
       " 'https://www.naukri.com//interior-design-jobs-{}?xt=catsrch&qf[]=2',\n",
       " 'https://www.naukri.com//interior-design-jobs-{}?xt=catsrch&qf[]=2',\n",
       " 'https://www.naukri.com//interior-design-jobs-{}?xt=catsrch&qf[]=2',\n",
       " 'https://www.naukri.com//interior-design-jobs-{}?xt=catsrch&qf[]=2',\n",
       " 'https://www.naukri.com//interior-design-jobs-{}?xt=catsrch&qf[]=2',\n",
       " 'https://www.naukri.com//interior-design-jobs-{}?xt=catsrch&qf[]=2',\n",
       " 'https://www.naukri.com//interior-design-jobs-{}?xt=catsrch&qf[]=2',\n",
       " 'https://www.naukri.com//interior-design-jobs-{}?xt=catsrch&qf[]=2',\n",
       " 'https://www.naukri.com//interior-design-jobs-{}?xt=catsrch&qf[]=2',\n",
       " 'https://www.naukri.com//interior-design-jobs-{}?xt=catsrch&qf[]=2',\n",
       " 'https://www.naukri.com//interior-design-jobs-{}?xt=catsrch&qf[]=2',\n",
       " 'https://www.naukri.com//interior-design-jobs-{}?xt=catsrch&qf[]=2',\n",
       " 'https://www.naukri.com//interior-design-jobs-{}?xt=catsrch&qf[]=2',\n",
       " 'https://www.naukri.com//interior-design-jobs-{}?xt=catsrch&qf[]=2',\n",
       " 'https://www.naukri.com//interior-design-jobs-{}?xt=catsrch&qf[]=2',\n",
       " 'https://www.naukri.com//interior-design-jobs-{}?xt=catsrch&qf[]=2',\n",
       " 'https://www.naukri.com//interior-design-jobs-{}?xt=catsrch&qf[]=2',\n",
       " 'https://www.naukri.com//interior-design-jobs-{}?xt=catsrch&qf[]=2',\n",
       " 'https://www.naukri.com//interior-design-jobs-{}?xt=catsrch&qf[]=2',\n",
       " 'https://www.naukri.com//interior-design-jobs-{}?xt=catsrch&qf[]=2',\n",
       " 'https://www.naukri.com//interior-design-jobs-{}?xt=catsrch&qf[]=2',\n",
       " 'https://www.naukri.com//interior-design-jobs-{}?xt=catsrch&qf[]=2',\n",
       " 'https://www.naukri.com//interior-design-jobs-{}?xt=catsrch&qf[]=2',\n",
       " 'https://www.naukri.com//interior-design-jobs-{}?xt=catsrch&qf[]=2']"
      ]
     },
     "execution_count": 129,
     "metadata": {},
     "output_type": "execute_result"
    }
   ],
   "source": [
    "gen_urls"
   ]
  },
  {
   "cell_type": "markdown",
   "id": "ac5ad256-cc0b-41e0-81dc-f42d871cb3cc",
   "metadata": {},
   "source": [
    "# to combine the url extracts to the url"
   ]
  },
  {
   "cell_type": "code",
   "execution_count": 273,
   "id": "cccc8cb9-d0fa-41b0-9245-c7518d4780b4",
   "metadata": {},
   "outputs": [],
   "source": [
    "gen_urlss = []\n",
    " \n",
    "for i in range(len(urlextract)): #range len fxn bcos we are working with non integers\n",
    "    url ='https://www.naukri.com/' + urlextract [i] +'-{}?' + urlextract2[i] #url \n",
    "    gen_urlss.append(url) #to append the original url we extracted "
   ]
  },
  {
   "cell_type": "code",
   "execution_count": 274,
   "id": "80ff0501-779a-41d6-b308-e22956d0c1b6",
   "metadata": {},
   "outputs": [
    {
     "data": {
      "text/plain": [
       "['https://www.naukri.com//accounting-jobs-{}?xt=catsrch&qf[]=1',\n",
       " 'https://www.naukri.com//interior-design-jobs-{}?xt=catsrch&qf[]=2',\n",
       " 'https://www.naukri.com//bank-jobs-{}?xt=catsrch&qf[]=6',\n",
       " 'https://www.naukri.com//content-writing-jobs-{}?xt=catsrch&qf[]=5',\n",
       " 'https://www.naukri.com//consultant-jobs-{}?xt=catsrch&qf[]=9',\n",
       " 'https://www.naukri.com//engineering-jobs-{}?xt=catsrch&qf[]=21',\n",
       " 'https://www.naukri.com//export-import-jobs-{}?xt=catsrch&qf[]=10',\n",
       " 'https://www.naukri.com//merchandiser-jobs-{}?xt=catsrch&qf[]=10',\n",
       " 'https://www.naukri.com//security-jobs-{}?xt=catsrch&qf[]=45',\n",
       " 'https://www.naukri.com//hr-jobs-{}?xt=catsrch&qf[]=12',\n",
       " 'https://www.naukri.com//hotel-jobs-{}?xt=catsrch&qf[]=4',\n",
       " 'https://www.naukri.com//application-programming-jobs-{}?xt=catsrch&qf[]=24.01',\n",
       " 'https://www.naukri.com//client-server-jobs-{}?xt=catsrch&qf[]=24.02',\n",
       " 'https://www.naukri.com//dba-jobs-{}?xt=catsrch&qf[]=24.03',\n",
       " 'https://www.naukri.com//ecommerce-jobs-{}?xt=catsrch&qf[]=24.12',\n",
       " 'https://www.naukri.com//erp-jobs-{}?xt=catsrch&qf[]=24.04',\n",
       " 'https://www.naukri.com//vlsi-jobs-{}?xt=catsrch&qf[]=24.05',\n",
       " 'https://www.naukri.com//mainframe-jobs-{}?xt=catsrch&qf[]=24.13',\n",
       " 'https://www.naukri.com//middleware-jobs-{}?xt=catsrch&qf[]=24.15',\n",
       " 'https://www.naukri.com//mobile-jobs-{}?xt=catsrch&qf[]=24.14',\n",
       " 'https://www.naukri.com//network-administrator-jobs-{}?xt=catsrch&qf[]=24.06',\n",
       " 'https://www.naukri.com//information-technology-jobs-{}?xt=catsrch&qf[]=24',\n",
       " 'https://www.naukri.com//testing-jobs-{}?xt=catsrch&qf[]=24.08',\n",
       " 'https://www.naukri.com//system-programming-jobs-{}?xt=catsrch&qf[]=24.09',\n",
       " 'https://www.naukri.com//edp-jobs-{}?xt=catsrch&qf[]=24.11',\n",
       " 'https://www.naukri.com//telecom-software-jobs-{}?xt=catsrch&qf[]=24.10',\n",
       " 'https://www.naukri.com//telecom-jobs-{}?xt=catsrch&qf[]=37',\n",
       " 'https://www.naukri.com//bpo-jobs-{}?xt=catsrch&qf[]=8',\n",
       " 'https://www.naukri.com//legal-jobs-{}?xt=catsrch&qf[]=13',\n",
       " 'https://www.naukri.com//marketing-jobs-{}?xt=catsrch&qf[]=15',\n",
       " 'https://www.naukri.com//packaging-jobs-{}?xt=catsrch&qf[]=18',\n",
       " 'https://www.naukri.com//pharma-jobs-{}?xt=catsrch&qf[]=16',\n",
       " 'https://www.naukri.com//maintenance-jobs-{}?xt=catsrch&qf[]=19',\n",
       " 'https://www.naukri.com//logistics-jobs-{}?xt=catsrch&qf[]=14',\n",
       " 'https://www.naukri.com//sales-jobs-{}?xt=catsrch&qf[]=22',\n",
       " 'https://www.naukri.com//secretary-jobs-{}?xt=catsrch&qf[]=11',\n",
       " 'https://www.naukri.com//corporate-planning-jobs-{}?xt=catsrch&qf[]=7',\n",
       " 'https://www.naukri.com//site-engineering-jobs-{}?xt=catsrch&qf[]=20',\n",
       " 'https://www.naukri.com//film-jobs-{}?xt=catsrch&qf[]=43',\n",
       " 'https://www.naukri.com//teaching-jobs-{}?xt=catsrch&qf[]=36',\n",
       " 'https://www.naukri.com//airline-jobs-{}?xt=catsrch&qf[]=44',\n",
       " 'https://www.naukri.com//graphic-designer-jobs-{}?xt=catsrch&qf[]=3',\n",
       " 'https://www.naukri.com//shipping-jobs-{}?xt=catsrch&qf[]=82',\n",
       " 'https://www.naukri.com//analytics-jobs-{}?xt=catsrch&qf[]=81',\n",
       " 'https://www.naukri.com//business-intelligence-jobs-{}?xt=catsrch&qf[]=81']"
      ]
     },
     "execution_count": 274,
     "metadata": {},
     "output_type": "execute_result"
    }
   ],
   "source": [
    "gen_urlss"
   ]
  },
  {
   "cell_type": "code",
   "execution_count": 275,
   "id": "96911b40-2c27-4b4f-8aec-c371730ce276",
   "metadata": {},
   "outputs": [
    {
     "data": {
      "text/plain": [
       "45"
      ]
     },
     "execution_count": 275,
     "metadata": {},
     "output_type": "execute_result"
    }
   ],
   "source": [
    "len (urls)"
   ]
  },
  {
   "cell_type": "code",
   "execution_count": 136,
   "id": "ab04ba5c-3ccd-4d9d-8dab-6bba5bfed19f",
   "metadata": {},
   "outputs": [
    {
     "data": {
      "text/plain": [
       "45"
      ]
     },
     "execution_count": 136,
     "metadata": {},
     "output_type": "execute_result"
    }
   ],
   "source": [
    "len (gen_urlss)"
   ]
  },
  {
   "cell_type": "markdown",
   "id": "8be8d360-fb9f-4323-adad-915494085676",
   "metadata": {},
   "source": [
    "# Creating data frames and generic python code for scrapping"
   ]
  },
  {
   "cell_type": "code",
   "execution_count": 137,
   "id": "02aff91c-fab8-4132-a14c-a54f88853062",
   "metadata": {},
   "outputs": [],
   "source": [
    "df= pd.DataFrame (columns = ['Job_Title', 'Experince', 'Company', 'Scrapping_Date','Salary', 'Location','Tags','Posting_Date'])"
   ]
  },
  {
   "cell_type": "code",
   "execution_count": 72,
   "id": "970143de-b080-4907-9cf8-482d943a59df",
   "metadata": {},
   "outputs": [
    {
     "name": "stdout",
     "output_type": "stream",
     "text": [
      "Requirement already satisfied: html5lib in c:\\users\\eugochi\\documents\\python folder for ds\\lib\\site-packages (1.1)Note: you may need to restart the kernel to use updated packages.\n",
      "\n",
      "Requirement already satisfied: six>=1.9 in c:\\users\\eugochi\\documents\\python folder for ds\\lib\\site-packages (from html5lib) (1.16.0)\n",
      "Requirement already satisfied: webencodings in c:\\users\\eugochi\\documents\\python folder for ds\\lib\\site-packages (from html5lib) (0.5.1)\n"
     ]
    }
   ],
   "source": [
    "pip install html5lib\n"
   ]
  },
  {
   "cell_type": "code",
   "execution_count": null,
   "id": "d404b338-fecb-4fb4-8cdc-f55782cf7ce2",
   "metadata": {},
   "outputs": [],
   "source": [
    "import html5lib"
   ]
  },
  {
   "cell_type": "code",
   "execution_count": 290,
   "id": "5224b957-a85d-4b30-b59f-f6831a644fcb",
   "metadata": {},
   "outputs": [
    {
     "name": "stdout",
     "output_type": "stream",
     "text": [
      "https://www.naukri.com//accounting-jobs-1?xt=catsrch&qf[]=1\n"
     ]
    }
   ],
   "source": [
    "for page in range (1,2): #to print only page 1... (1,11) to print pg 1 - 10\n",
    "    for urlz in gen_urlss [0:1]: #to print only 1st 2 job links.. [0:1] to print only the first job link\n",
    "        url = urlz. format (page)\n",
    "        print (url)"
   ]
  },
  {
   "cell_type": "markdown",
   "id": "9277363f-b9a7-4c5c-9384-8e3c221cb421",
   "metadata": {},
   "source": [
    "# i tried to also create a keyword but the site still didnt open"
   ]
  },
  {
   "cell_type": "code",
   "execution_count": 286,
   "id": "1d2d17d0-3a59-4bae-b4f2-de99280c88e1",
   "metadata": {},
   "outputs": [],
   "source": [
    "# def my_url(keyword):\n",
    "#     temp = 'https://www.naukri.com/{}-jobs?xt=catsrch&qf[]=?'\n",
    "#     #use {} to replace what ever you need to remove from https://www.amazon.com/s?k=phone+case&crid=75LBEIUXJZW6&sprefix=phone+case%2Caps%2C1068&ref=nb_sb_noss_1\n",
    "#     keyword =keyword.replace(' ','-') #to replace any space with (-) dash\n",
    "#     return temp.format(keyword)"
   ]
  },
  {
   "cell_type": "code",
   "execution_count": 287,
   "id": "8a58490b-ca0b-47ed-9467-7ef35974ffd4",
   "metadata": {},
   "outputs": [
    {
     "data": {
      "text/plain": [
       "'https://www.naukri.com/accounting-jobs?xt=catsrch&qf[]=?'"
      ]
     },
     "execution_count": 287,
     "metadata": {},
     "output_type": "execute_result"
    }
   ],
   "source": [
    "# url = my_url ('accounting')\n",
    "# url"
   ]
  },
  {
   "cell_type": "code",
   "execution_count": 292,
   "id": "62d8bdd5-2d4c-4d0d-b4ef-34e38e865ab9",
   "metadata": {},
   "outputs": [],
   "source": [
    "\n",
    "\n",
    "        #notice that it prints only one page each of two links... the {} in the link is replaced with 1 asin pg 1 \n",
    "    \n",
    "        driver = webdriver.Chrome(executable_path = \"Documents/Data Anaytics Dr Briit/chromedriver.exe\")\n",
    "        driver.get(url)\n",
    "        \n",
    "        time.sleep(5) #to wait for 5 secs before scrapping each data and puting in the df\n",
    "        soup = BeautifulSoup (driver.page_source, 'html5lib') #to extract the specific info that i want\n",
    "    \n",
    "        \n",
    "        driver.close() #close browser when done with one browswer and need to start another browser\n",
    "    \n",
    "        #print(soup.prettify()) \n",
    "     \n",
    "      \n",
    "       #below you will notice that the page isnt opening corectly to the web page i need to scrap so i cant continue\n",
    "    "
   ]
  },
  {
   "cell_type": "code",
   "execution_count": null,
   "id": "bfb03c62-cb2a-4b02-8d46-d88a146f8d08",
   "metadata": {},
   "outputs": [
    {
     "ename": "AttributeError",
     "evalue": "'NoneType' object has no attribute 'find_all'",
     "output_type": "error",
     "traceback": [
      "\u001b[1;31m---------------------------------------------------------------------------\u001b[0m",
      "\u001b[1;31mAttributeError\u001b[0m                            Traceback (most recent call last)",
      "Input \u001b[1;32mIn [164]\u001b[0m, in \u001b[0;36m<cell line: 2>\u001b[1;34m()\u001b[0m\n\u001b[0;32m      1\u001b[0m results \u001b[38;5;241m=\u001b[39m soup\u001b[38;5;241m.\u001b[39mfind(class_\u001b[38;5;241m=\u001b[39m\u001b[38;5;124m'\u001b[39m\u001b[38;5;124mlist\u001b[39m\u001b[38;5;124m'\u001b[39m)\n\u001b[1;32m----> 2\u001b[0m job_elems \u001b[38;5;241m=\u001b[39m \u001b[43mresults\u001b[49m\u001b[38;5;241;43m.\u001b[39;49m\u001b[43mfind_all\u001b[49m(\u001b[38;5;124m'\u001b[39m\u001b[38;5;124marticle\u001b[39m\u001b[38;5;124m'\u001b[39m,class_\u001b[38;5;241m=\u001b[39m\u001b[38;5;124m'\u001b[39m\u001b[38;5;124mjobTuple bgWhite br4 mb-8\u001b[39m\u001b[38;5;124m'\u001b[39m)\n\u001b[0;32m      5\u001b[0m \u001b[38;5;28;01mfor\u001b[39;00m job_elem \u001b[38;5;129;01min\u001b[39;00m job_elems:\n\u001b[0;32m      6\u001b[0m     \n\u001b[0;32m      7\u001b[0m     \n\u001b[1;32m   (...)\u001b[0m\n\u001b[0;32m     16\u001b[0m \n\u001b[0;32m     17\u001b[0m     \u001b[38;5;66;03m#job title\u001b[39;00m\n\u001b[0;32m     18\u001b[0m     Job_Title \u001b[38;5;241m=\u001b[39m job_elem\u001b[38;5;241m.\u001b[39mfind(\u001b[38;5;124m'\u001b[39m\u001b[38;5;124ma\u001b[39m\u001b[38;5;124m'\u001b[39m,class_\u001b[38;5;241m=\u001b[39m\u001b[38;5;124m'\u001b[39m\u001b[38;5;124mtitle fw500 ellipsis\u001b[39m\u001b[38;5;124m'\u001b[39m)\n",
      "\u001b[1;31mAttributeError\u001b[0m: 'NoneType' object has no attribute 'find_all'"
     ]
    }
   ],
   "source": [
    "        results = soup.find(class_='list')\n",
    "        job_elems = results.find_all('article',class_='jobTuple bgWhite br4 mb-8')\n",
    "\n",
    "        \n",
    "        for job_elem in job_elems:\n",
    "            \n",
    "            \n",
    "#                     #function area\n",
    "#             func_results = soup.find('p',class_='jdRightItemValue')\n",
    "#             if func_results is None:\n",
    "#                 func_results = 'Not Available'\n",
    "#                 continue\n",
    "#             else:\n",
    "#                 func_area = func_results.text\n",
    "#                 print(func_area)\n",
    "\n",
    "            #job title\n",
    "            Job_Title = job_elem.find('a',class_='title fw500 ellipsis')\n",
    "            print(Job_Title.text)\n",
    "        \n",
    "            # Experience\n",
    "            Exp = job_elem.find('li',class_='fleft grey-text br2 placeHolderLi experience')\n",
    "            Exp_span = Exp.find('span',class_='ellipsis fleft fs12 lh16')\n",
    "            if Exp_span is None:\n",
    "                continue\n",
    "            else:\n",
    "                Experience = Exp_span.text\n",
    "                print(Experience)\n",
    "            \n",
    "\n",
    "            \n",
    "            # Company\n",
    "            Company = job_elem.find('a',class_='subTitle ellipsis fleft')\n",
    "            print(Company.text)\n",
    "\n",
    "            \n",
    "            # Date Scraped\n",
    "            from datetime import date\n",
    "            today = date.today()\n",
    "                    # dd/mm/YY\n",
    "            date_today = today.strftime(\"%d/%m/%Y\")\n",
    "            print(date_today)\n",
    "            \n",
    "\n",
    "            # Salary\n",
    "            Sal = job_elem.find('li',class_='fleft grey-text br2 placeHolderLi salary')\n",
    "            Sal_span = Sal.find('span',class_='ellipsis fleft fs12 lh16')\n",
    "            if Sal_span is None:\n",
    "                continue\n",
    "            else:\n",
    "                Salary = Sal_span.text\n",
    "                print(Salary)\n",
    "\n",
    "            \n",
    "            # Location for the job post\n",
    "            Loc = job_elem.find('li',class_='fleft grey-text br2 placeHolderLi location')\n",
    "            Loc_exp = Loc.find('span',class_='ellipsis fleft fs12 lh16')\n",
    "            if Loc_exp is None:\n",
    "                continue\n",
    "            else:\n",
    "                Location = Loc_exp.text\n",
    "                print(Location)\n",
    "            \n",
    "            \n",
    "            \n",
    "            #tags\n",
    "     \n",
    "            tags = job_elem.find('li',class_='fleft fs12 grey-text lh16 dot')\n",
    "\n",
    "            if tags is None:\n",
    "                continue\n",
    "            else:\n",
    "                assoc_tags = tags.text\n",
    "                print(assoc_tags)\n",
    "\n",
    "            \n",
    "            \n",
    "            \n",
    "            # Date job Posted\n",
    "            date = job_elem.find(\"div\",[\"type br2 fleft grey\",\"type br2 fleft green\"])\n",
    "            date_posted = date.find('span',class_='fleft fw500')\n",
    "            if date_posted is None:\n",
    "                continue\n",
    "            else:\n",
    "                Posting_Date = date_posted.text\n",
    "                print(Posting_Date)\n",
    "\n",
    "            df=df.append({'Job_Title':Job_Title.text,'Experience':Experience,'Company':Company.text,'Scraping_Date':date_today, 'Salary':Salary,'Location':Location,'Tags_Associated':assoc_tags,'Posting_Date':Posting_Date},ignore_index = True)\n",
    "                  #to append the old data frame created "
   ]
  },
  {
   "cell_type": "code",
   "execution_count": null,
   "id": "0ee52b37-3981-45ea-8692-2880d21dc47b",
   "metadata": {},
   "outputs": [],
   "source": [
    "df.to_csv('filename.csv') #to save to csv or you cn just save to csv as usually by importing csv and opening file etc"
   ]
  },
  {
   "cell_type": "code",
   "execution_count": null,
   "id": "a0c42f9c-0798-419b-9106-d8af30903315",
   "metadata": {},
   "outputs": [],
   "source": []
  },
  {
   "cell_type": "code",
   "execution_count": null,
   "id": "0a8b99a3-8d23-4e26-ab56-5fc776f51384",
   "metadata": {},
   "outputs": [],
   "source": []
  }
 ],
 "metadata": {
  "kernelspec": {
   "display_name": "Python 3 (ipykernel)",
   "language": "python",
   "name": "python3"
  },
  "language_info": {
   "codemirror_mode": {
    "name": "ipython",
    "version": 3
   },
   "file_extension": ".py",
   "mimetype": "text/x-python",
   "name": "python",
   "nbconvert_exporter": "python",
   "pygments_lexer": "ipython3",
   "version": "3.9.12"
  }
 },
 "nbformat": 4,
 "nbformat_minor": 5
}
