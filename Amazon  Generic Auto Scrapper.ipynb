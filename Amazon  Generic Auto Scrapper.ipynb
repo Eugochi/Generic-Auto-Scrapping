{
 "cells": [
  {
   "cell_type": "code",
   "execution_count": 2,
   "id": "aa981883-c200-4de5-aa36-2f83051775f2",
   "metadata": {},
   "outputs": [
    {
     "name": "stdout",
     "output_type": "stream",
     "text": [
      "Requirement already satisfied: selenium in c:\\users\\eugochi\\documents\\python folder for ds\\lib\\site-packages (3.141.0)\n",
      "Requirement already satisfied: urllib3 in c:\\users\\eugochi\\documents\\python folder for ds\\lib\\site-packages (from selenium) (1.26.9)\n",
      "Requirement already satisfied: msedge-selenium-tools in c:\\users\\eugochi\\documents\\python folder for ds\\lib\\site-packages (3.141.4)\n",
      "Requirement already satisfied: selenium==3.141 in c:\\users\\eugochi\\documents\\python folder for ds\\lib\\site-packages (from msedge-selenium-tools) (3.141.0)\n",
      "Requirement already satisfied: urllib3 in c:\\users\\eugochi\\documents\\python folder for ds\\lib\\site-packages (from selenium==3.141->msedge-selenium-tools) (1.26.9)\n",
      "Requirement already satisfied: bs4 in c:\\users\\eugochi\\documents\\python folder for ds\\lib\\site-packages (0.0.1)\n",
      "Requirement already satisfied: beautifulsoup4 in c:\\users\\eugochi\\documents\\python folder for ds\\lib\\site-packages (from bs4) (4.11.1)\n",
      "Requirement already satisfied: soupsieve>1.2 in c:\\users\\eugochi\\documents\\python folder for ds\\lib\\site-packages (from beautifulsoup4->bs4) (2.3.1)\n"
     ]
    }
   ],
   "source": [
    "!pip install selenium\n",
    "!pip install msedge-selenium-tools \n",
    "!pip install bs4"
   ]
  },
  {
   "cell_type": "code",
   "execution_count": 58,
   "id": "c402105c-5052-4e56-b6cf-9ed3d923a6df",
   "metadata": {},
   "outputs": [
    {
     "name": "stdout",
     "output_type": "stream",
     "text": [
      "Requirement already satisfied: chromedriver_binary in c:\\users\\eugochi\\documents\\python folder for ds\\lib\\site-packages (87.0.4280.88.0)\n"
     ]
    }
   ],
   "source": [
    "#!pip install chromedriver_binary "
   ]
  },
  {
   "cell_type": "code",
   "execution_count": 54,
   "id": "1ad5d25f-f753-452d-a44c-89cdb1700003",
   "metadata": {},
   "outputs": [
    {
     "name": "stdout",
     "output_type": "stream",
     "text": [
      "Collecting chromedriver_binary==87.0.4280.88\n",
      "  Downloading chromedriver-binary-87.0.4280.88.0.tar.gz (3.6 kB)\n",
      "Building wheels for collected packages: chromedriver-binary\n",
      "  Building wheel for chromedriver-binary (setup.py): started\n",
      "  Building wheel for chromedriver-binary (setup.py): finished with status 'done'\n",
      "  Created wheel for chromedriver-binary: filename=chromedriver_binary-87.0.4280.88.0-py3-none-any.whl size=5440512 sha256=390b3a60892c8dde516bffac52374a829a9df90e29d784ebbc855133e2b3c930\n",
      "  Stored in directory: c:\\users\\eugochi\\appdata\\local\\pip\\cache\\wheels\\51\\77\\22\\66c6a5b679de87ee0cd52c7e50d9e81adcb1e38523f6037c8d\n",
      "Successfully built chromedriver-binary\n",
      "Installing collected packages: chromedriver-binary\n",
      "  Attempting uninstall: chromedriver-binary\n",
      "    Found existing installation: chromedriver-binary 112.0.5615.28.0\n",
      "    Uninstalling chromedriver-binary-112.0.5615.28.0:\n",
      "      Successfully uninstalled chromedriver-binary-112.0.5615.28.0\n",
      "Successfully installed chromedriver-binary-87.0.4280.88.0\n"
     ]
    }
   ],
   "source": [
    "#!pip install chromedriver_binary==87.0.4280.88 these versions are not compatible with my chrome"
   ]
  },
  {
   "cell_type": "code",
   "execution_count": null,
   "id": "5309160c-02fd-4c6b-902e-2680d5f2063a",
   "metadata": {},
   "outputs": [],
   "source": [
    "#!pip install chromedriver_binary = put verion of google chrome on computer\n",
    "#for some reason this installation style didnt work for me so i used the above "
   ]
  },
  {
   "cell_type": "code",
   "execution_count": null,
   "id": "4a43371d-c21b-46e9-a7f2-9efe6d433b1e",
   "metadata": {},
   "outputs": [],
   "source": [
    "#because i need the version 111 i had to download it to my computer manually the copy the file path from jupyter,\n",
    "#and put it into d executable path directly."
   ]
  },
  {
   "cell_type": "code",
   "execution_count": 7,
   "id": "3982b6c8-7055-4063-bc93-2f46c47d0057",
   "metadata": {},
   "outputs": [],
   "source": [
    "from selenium import webdriver\n",
    "import chromedriver_binary\n",
    "\n",
    "driver= webdriver.Chrome(executable_path = \"Documents/Data Anaytics Dr Briit/chromedriver.exe\")\n",
    "#completely skip this code if you have a matching version of cd to gc on line 32\n",
    "\n",
    "#for microsoft edge browser\n",
    "from msedge.selenium_tools import Edge, EdgeOptions \n",
    "import csv"
   ]
  },
  {
   "cell_type": "code",
   "execution_count": null,
   "id": "06cfd42b-ac6f-42e1-9b86-fe510e3fd303",
   "metadata": {},
   "outputs": [],
   "source": [
    "#for chrome\n",
    "#driver = webdriver.Chrome() #this code means open google chrome () with matching version of chrome driver\n",
    "                            #we would using chrome since we are using google chrom\n",
    "                            #however i skipped this step and used the above step, if my version worked on line 32, ill skip line 38 and jump to this\n",
    "                            #using this will lead to an error with no matching versions, that is why you include the file path of chrome driver inside chromefxn ()\n",
    "#firefox\n",
    "#driver = webdriver.Firefox()\n",
    "\n",
    "#MsEdge\n",
    "#options =EdgeOptions()\n",
    "#options.use_chromium =True\n",
    "#driver = Edge(options=options)"
   ]
  },
  {
   "cell_type": "code",
   "execution_count": 3,
   "id": "8e059f2a-af6e-4504-818f-da04ed5e1d8e",
   "metadata": {},
   "outputs": [],
   "source": [
    "url ='https://www.amazon.com/'\n",
    "driver.get(url)"
   ]
  },
  {
   "cell_type": "markdown",
   "id": "6a9bd2a7-09bc-4aef-8860-85d4d8993451",
   "metadata": {},
   "source": [
    "# Creating a generic url\n"
   ]
  },
  {
   "cell_type": "code",
   "execution_count": 4,
   "id": "2c55eee4-b722-4dfe-9e94-6d25f796132c",
   "metadata": {},
   "outputs": [],
   "source": [
    "def my_url(keyword):\n",
    "    temp = 'https://www.amazon.com/s?k={}&ref=nb_sb_noss_1'\n",
    "    #use {} to replace what ever you need to remove from https://www.amazon.com/s?k=phone+case&crid=75LBEIUXJZW6&sprefix=phone+case%2Caps%2C1068&ref=nb_sb_noss_1\n",
    "    keyword =keyword.replace(' ','+') #to replace space with +\n",
    "    return temp.format(keyword)"
   ]
  },
  {
   "cell_type": "code",
   "execution_count": 52,
   "id": "3be4fc02-5758-4e07-98b8-8cc96c37fe29",
   "metadata": {},
   "outputs": [
    {
     "data": {
      "text/plain": [
       "'https://www.amazon.com/s?k=laptop+charger&ref=nb_sb_noss_1'"
      ]
     },
     "execution_count": 52,
     "metadata": {},
     "output_type": "execute_result"
    }
   ],
   "source": [
    "url = my_url ('laptop charger')\n",
    "url"
   ]
  },
  {
   "cell_type": "code",
   "execution_count": 53,
   "id": "85e8eb52-575f-435c-9155-abf333728a15",
   "metadata": {},
   "outputs": [
    {
     "data": {
      "text/plain": [
       "'https://www.amazon.com/s?k=shoe&ref=nb_sb_noss_1'"
      ]
     },
     "execution_count": 53,
     "metadata": {},
     "output_type": "execute_result"
    }
   ],
   "source": [
    "url = my_url ('shoe')\n",
    "url"
   ]
  },
  {
   "cell_type": "code",
   "execution_count": 8,
   "id": "5c396a85-8d14-4698-86b0-4c51b621bfb7",
   "metadata": {},
   "outputs": [
    {
     "data": {
      "text/plain": [
       "'https://www.amazon.com/s?k=mobile+phone&ref=nb_sb_noss_1'"
      ]
     },
     "execution_count": 8,
     "metadata": {},
     "output_type": "execute_result"
    }
   ],
   "source": [
    "url = my_url ('mobile phone')\n",
    "url"
   ]
  },
  {
   "cell_type": "code",
   "execution_count": 9,
   "id": "f5b6bf7b-3c47-49d2-9cc7-14a81b284508",
   "metadata": {},
   "outputs": [],
   "source": [
    "driver.get(url) #to open the mobile phone page on amazon website"
   ]
  },
  {
   "cell_type": "code",
   "execution_count": 10,
   "id": "596f8860-c84a-4c60-93ff-5f4d2bb85e7f",
   "metadata": {},
   "outputs": [],
   "source": [
    "from bs4 import BeautifulSoup\n",
    "\n",
    "soup = BeautifulSoup(driver.page_source, 'html.parser') #to get content from the web page"
   ]
  },
  {
   "cell_type": "code",
   "execution_count": 113,
   "id": "a48f4d21-f27b-4951-99bf-8ecce90d820d",
   "metadata": {},
   "outputs": [],
   "source": [
    "soup_results = soup.find_all('div', {'data-component-type':'s-search-result'}) #to find data in the component the have searched on the web page"
   ]
  },
  {
   "cell_type": "code",
   "execution_count": 114,
   "id": "a4abcc59-1b2e-4372-852a-48487debda03",
   "metadata": {},
   "outputs": [
    {
     "data": {
      "text/plain": [
       "4"
      ]
     },
     "execution_count": 114,
     "metadata": {},
     "output_type": "execute_result"
    }
   ],
   "source": [
    "len(soup_results)"
   ]
  },
  {
   "cell_type": "code",
   "execution_count": 112,
   "id": "b4d67394-e8e2-486b-a348-5e149253cc1c",
   "metadata": {},
   "outputs": [
    {
     "data": {
      "text/plain": [
       "<div class=\"sg-col-20-of-24 s-result-item s-asin sg-col-0-of-12 sg-col-16-of-20 AdHolder sg-col s-widget-spacing-small sg-col-12-of-16\" data-asin=\"B09QRPL79H\" data-component-type=\"s-search-result\" data-index=\"2\" data-uuid=\"2827f7cc-90f8-4cb3-a165-448505556474\"><div class=\"sg-col-inner\"><div cel_widget_id=\"MAIN-SEARCH_RESULTS-2\" class=\"s-widget-container s-spacing-small s-widget-container-height-small celwidget slot=MAIN template=SEARCH_RESULTS widgetId=search-results_1\" data-csa-c-item-id=\"amzn1.asin.1.B09QRPL79H\" data-csa-c-pos=\"1\" data-csa-c-type=\"item\" data-csa-op-log-render=\"\">\n",
       "<div class=\"rush-component\" data-component-props='{\"percentageShownToFire\":\"50\",\"batchable\":true,\"requiredElementSelector\":\".s-image:visible\",\"url\":\"https://unagi-na.amazon.com/1/events/com.amazon.eel.SponsoredProductsEventTracking.prod?qualifier=1680715721&amp;id=339471194384161&amp;widgetName=sp_atf&amp;adId=200150124876098&amp;eventType=1&amp;adIndex=0\"}' data-component-type=\"s-impression-logger\">\n",
       "<div class=\"rush-component s-featured-result-item\" data-component-props='{\"presenceCounterName\":\"sp_delivered\",\"testElementSelector\":\".s-image\",\"hiddenCounterName\":\"sp_hidden\"}' data-component-type=\"s-impression-counter\">\n",
       "<div class=\"s-card-container s-overflow-hidden aok-relative puis-wide-grid-style puis-wide-grid-style-t2 puis-include-content-margin puis s-latency-cf-section s-card-border\"><div class=\"a-section\"><div class=\"sg-row\"><div class=\"sg-col sg-col-4-of-12 sg-col-4-of-16 sg-col-4-of-20 sg-col-4-of-24 s-list-col-left\"><div class=\"sg-col-inner\"><div class=\"a-section a-spacing-none aok-relative puis-status-badge-container s-list-status-badge-container\"></div><div class=\"s-product-image-container aok-relative s-text-center s-image-overlay-grey s-padding-left-small s-padding-right-small s-flex-expand-height\"><div class=\"aok-relative\"><span class=\"rush-component\" data-component-type=\"s-product-image\"><a class=\"a-link-normal s-no-outline\" href=\"/gp/slredirect/picassoRedirect.html/ref=pa_sp_atf_aps_sr_pg1_1?ie=UTF8&amp;adId=A09308002VE49JYSZTAYM&amp;qualifier=1680715721&amp;id=339471194384161&amp;widgetName=sp_atf&amp;url=%2FZORIDA-Cell-Phone-Signal-Booster%2Fdp%2FB09QRPL79H%2Fref%3Dsr_1_1_sspa%3Fkeywords%3Dmobile%2Bphone%26qid%3D1680715721%26sr%3D8-1-spons%26psc%3D1\"><div class=\"a-section aok-relative s-image-fixed-height\"><img alt=\"Sponsored Ad - ZORIDA Cell Phone Signal Booster for Home Up to 5500 sq ft - Cell Phone Booster Boost 5G 4G LTE for All US ...\" class=\"s-image\" data-image-index=\"1\" data-image-latency=\"s-product-image\" data-image-load=\"\" data-image-source-density=\"1\" src=\"https://m.media-amazon.com/images/I/61Yk7lohgvL._AC_UY218_.jpg\" srcset=\"https://m.media-amazon.com/images/I/61Yk7lohgvL._AC_UY218_.jpg 1x, https://m.media-amazon.com/images/I/61Yk7lohgvL._AC_UY327_FMwebp_QL65_.jpg 1.5x, https://m.media-amazon.com/images/I/61Yk7lohgvL._AC_UY436_FMwebp_QL65_.jpg 2x, https://m.media-amazon.com/images/I/61Yk7lohgvL._AC_UY545_FMwebp_QL65_.jpg 2.5x, https://m.media-amazon.com/images/I/61Yk7lohgvL._AC_UY654_FMwebp_QL65_.jpg 3x\"/></div></a></span></div></div></div></div><div class=\"sg-col sg-col-4-of-12 sg-col-8-of-16 sg-col-12-of-20 sg-col-12-of-24 s-list-col-right\"><div class=\"sg-col-inner\"><div class=\"a-section a-spacing-small a-spacing-top-small\"><div class=\"a-section a-spacing-none puis-padding-right-small s-title-instructions-style\"><div class=\"a-row a-spacing-micro\"><span class=\"a-declarative\" data-a-popover='{\"closeButton\":\"true\",\"dataStrategy\":\"preload\",\"name\":\"sp-info-popover-B09QRPL79H\",\"position\":\"triggerVertical\"}' data-action=\"a-popover\" data-csa-c-func-deps=\"aui-da-a-popover\" data-csa-c-type=\"widget\"><a aria-label=\"View Sponsored information or leave ad feedback\" class=\"puis-label-popover puis-sponsored-label-text\" href=\"javascript:void(0)\" role=\"button\" style=\"text-decoration: none;\"><span class=\"puis-label-popover-default\"><span class=\"a-color-secondary\">Sponsored</span></span><span class=\"puis-label-popover-hover\"><span class=\"a-color-base\">Sponsored</span></span> <span class=\"aok-inline-block puis-sponsored-label-info-icon\"></span></a></span><div class=\"a-popover-preload\" id=\"a-popover-sp-info-popover-B09QRPL79H\"><div class=\"puis\"><span>You’re seeing this ad based on the product’s relevance to your search query.</span><div class=\"a-row\"><span class=\"a-declarative\" data-action=\"s-safe-ajax-modal-trigger\" data-csa-c-func-deps=\"aui-da-s-safe-ajax-modal-trigger\" data-csa-c-type=\"widget\" data-s-safe-ajax-modal-trigger='{\"ajaxUrl\":\"/af/sp-loom/feedback-form?pl=%7B%22adPlacementMetaData%22%3A%7B%22searchTerms%22%3A%22bW9iaWxlIHBob25l%22%2C%22pageType%22%3A%22Search%22%2C%22feedbackType%22%3A%22sponsoredProductsLoom%22%2C%22slotName%22%3A%22TOP%22%7D%2C%22adCreativeMetaData%22%3A%7B%22adProgramId%22%3A1024%2C%22adCreativeDetails%22%3A%5B%7B%22asin%22%3A%22B09QRPL79H%22%2C%22title%22%3A%22ZORIDA+Cell+Phone+Signal+Booster+for+Home+Up+to+5500+sq+ft+-+Cell+Phone+Booster+Boost+5G+4G+LTE+for+%22%2C%22priceInfo%22%3A%7B%22amount%22%3A398.99%2C%22currencyCode%22%3A%22USD%22%7D%2C%22sku%22%3A%22Zorida+New+Smart+Call%22%2C%22adId%22%3A%22A09308002VE49JYSZTAYM%22%2C%22campaignId%22%3A%22A097610010VB4HYR6C6UC%22%7D%5D%7D%7D\",\"dataStrategy\":\"ajax\",\"header\":\"Share your feedback\"}'><a class=\"a-link-normal s-underline-text s-underline-link-text s-link-style\" href=\"#\"><span>Leave ad feedback</span> </a> </span></div></div></div></div><h2 class=\"a-size-mini a-spacing-none a-color-base s-line-clamp-2\"><a class=\"a-link-normal s-underline-text s-underline-link-text s-link-style a-text-normal\" href=\"/gp/slredirect/picassoRedirect.html/ref=pa_sp_atf_aps_sr_pg1_1?ie=UTF8&amp;adId=A09308002VE49JYSZTAYM&amp;qualifier=1680715721&amp;id=339471194384161&amp;widgetName=sp_atf&amp;url=%2FZORIDA-Cell-Phone-Signal-Booster%2Fdp%2FB09QRPL79H%2Fref%3Dsr_1_1_sspa%3Fkeywords%3Dmobile%2Bphone%26qid%3D1680715721%26sr%3D8-1-spons%26psc%3D1\"><span class=\"a-size-medium a-color-base a-text-normal\">ZORIDA Cell Phone Signal Booster for Home Up to 5500 sq ft - Cell Phone Booster Boost 5G 4G LTE for All US Carriers - Verizon AT&amp;T T-Mobile Sprint FCC Approved Cell Booster</span> </a> </h2></div><div class=\"a-section a-spacing-none a-spacing-top-micro\"><div class=\"a-row a-size-small\"><span aria-label=\"4.3 out of 5 stars\"><span class=\"a-size-base\">4.3</span><span class=\"a-letter-space\"></span><span class=\"a-declarative\" data-a-popover='{\"closeButton\":false,\"closeButtonLabel\":\"\",\"position\":\"triggerBottom\",\"popoverLabel\":\"\",\"url\":\"/review/widgets/average-customer-review/popover/ref=acr_search__popover?ie=UTF8&amp;asin=B09QRPL79H&amp;ref=acr_search__popover&amp;contextId=search\"}' data-action=\"a-popover\" data-csa-c-func-deps=\"aui-da-a-popover\" data-csa-c-type=\"widget\"><a class=\"a-popover-trigger a-declarative\" href=\"javascript:void(0)\" role=\"button\"><i class=\"a-icon a-icon-star-small a-star-small-4-5 aok-align-bottom\"><span class=\"a-icon-alt\">4.3 out of 5 stars</span></i><i class=\"a-icon a-icon-popover\"></i></a></span> </span><span aria-label=\"111\"><a class=\"a-link-normal s-underline-text s-underline-link-text s-link-style\" href=\"/gp/slredirect/picassoRedirect.html/ref=pa_sp_atf_aps_sr_pg1_1?ie=UTF8&amp;adId=A09308002VE49JYSZTAYM&amp;qualifier=1680715721&amp;id=339471194384161&amp;widgetName=sp_atf&amp;url=%2FZORIDA-Cell-Phone-Signal-Booster%2Fdp%2FB09QRPL79H%2Fref%3Dsr_1_1_sspa%3Fkeywords%3Dmobile%2Bphone%26qid%3D1680715721%26sr%3D8-1-spons%26psc%3D1#customerReviews\"><span class=\"a-size-base s-underline-text\">(111)</span> </a> </span></div></div><div class=\"sg-row\"><div class=\"sg-col sg-col-4-of-12 sg-col-4-of-16 sg-col-4-of-20 sg-col-4-of-24\"><div class=\"sg-col-inner\"><div class=\"a-section a-spacing-none a-spacing-top-micro s-price-instructions-style\"><div class=\"a-row a-size-base a-color-base\"><a class=\"a-size-base a-link-normal s-underline-text s-underline-link-text s-link-style a-text-normal\" href=\"/gp/slredirect/picassoRedirect.html/ref=pa_sp_atf_aps_sr_pg1_1?ie=UTF8&amp;adId=A09308002VE49JYSZTAYM&amp;qualifier=1680715721&amp;id=339471194384161&amp;widgetName=sp_atf&amp;url=%2FZORIDA-Cell-Phone-Signal-Booster%2Fdp%2FB09QRPL79H%2Fref%3Dsr_1_1_sspa%3Fkeywords%3Dmobile%2Bphone%26qid%3D1680715721%26sr%3D8-1-spons%26psc%3D1\"><span class=\"a-price\" data-a-color=\"base\" data-a-size=\"xl\"><span class=\"a-offscreen\">$398.99</span><span aria-hidden=\"true\"><span class=\"a-price-symbol\">$</span><span class=\"a-price-whole\">398<span class=\"a-price-decimal\">.</span></span><span class=\"a-price-fraction\">99</span></span></span> </a> </div><div class=\"a-row a-size-small a-color-secondary\"><span class=\"rush-component\" data-component-props='{\"asin\":\"B09QRPL79H\"}' data-component-type=\"s-coupon-component\"><span class=\"s-coupon-clipped aok-hidden\"><span class=\"a-color-base\">$60.00 coupon applied at checkout</span></span><span class=\"s-coupon-unclipped\"><span class=\"a-size-base s-highlighted-text-padding aok-inline-block s-coupon-highlight-color\">Save $60.00</span> <span class=\"a-color-base\"> with coupon</span></span></span> </div></div><div class=\"a-section a-spacing-none a-spacing-top-micro\"><div class=\"a-row a-size-base a-color-secondary s-align-children-center\"><span class=\"a-size-small a-color-base\">Ships to Nigeria</span></div></div><div class=\"a-section a-spacing-none a-spacing-top-mini s-color-swatch-container-list-view\"><div class=\"a-section s-color-swatch-container s-quick-view-text-align-start\"><div data-csa-c-content-id=\"color-swatch-more-link\" data-csa-c-interaction-events=\"click\" data-csa-c-swatch-more-url=\"/gp/slredirect/picassoRedirect.html/ref=pa_sp_atf_aps_sr_pg1_1?ie=UTF8&amp;adId=A09308002VE49JYSZTAYM&amp;qualifier=1680715721&amp;id=339471194384161&amp;widgetName=sp_atf&amp;url=%2FZORIDA-Cell-Phone-Signal-Booster%2Fdp%2FB09QRPL79H%2Fref%3Dsr_1_1_sspa%3Fkeywords%3Dmobile%2Bphone%26qid%3D1680715721%26sr%3D8-1-spons%26psc%3D1\" data-csa-c-swatch-remaining-count=\"+1 colors/patterns\" data-csa-c-type=\"link\"><a class=\"a-link-normal s-color-swatch-link puis-spacing-small s-hidden-in-quick-view\" href=\"/gp/slredirect/picassoRedirect.html/ref=pa_sp_atf_aps_sr_pg1_1?ie=UTF8&amp;adId=A09308002VE49JYSZTAYM&amp;qualifier=1680715721&amp;id=339471194384161&amp;widgetName=sp_atf&amp;url=%2FZORIDA-Cell-Phone-Signal-Booster%2Fdp%2FB09QRPL79H%2Fref%3Dsr_1_1_sspa%3Fkeywords%3Dmobile%2Bphone%26qid%3D1680715721%26sr%3D8-1-spons%26psc%3D1\" role=\"link\"><u>+1 colors/patterns</u></a></div></div></div></div></div><div class=\"sg-col sg-col-4-of-12 sg-col-4-of-16 sg-col-8-of-20 sg-col-8-of-24\"><div class=\"sg-col-inner\"></div></div></div></div></div></div></div></div></div>\n",
       "</div>\n",
       "</div>\n",
       "</div></div></div>"
      ]
     },
     "execution_count": 112,
     "metadata": {},
     "output_type": "execute_result"
    }
   ],
   "source": [
    "obj =soup_results[0] #to get the results for the first page\n",
    "obj"
   ]
  },
  {
   "cell_type": "code",
   "execution_count": 14,
   "id": "e548dcf0-e490-4293-81b3-82c8ee0c6126",
   "metadata": {},
   "outputs": [
    {
     "data": {
      "text/plain": [
       "<a class=\"a-link-normal s-underline-text s-underline-link-text s-link-style a-text-normal\" href=\"/gp/slredirect/picassoRedirect.html/ref=pa_sp_atf_aps_sr_pg1_1?ie=UTF8&amp;adId=A09308002VE49JYSZTAYM&amp;qualifier=1680715721&amp;id=339471194384161&amp;widgetName=sp_atf&amp;url=%2FZORIDA-Cell-Phone-Signal-Booster%2Fdp%2FB09QRPL79H%2Fref%3Dsr_1_1_sspa%3Fkeywords%3Dmobile%2Bphone%26qid%3D1680715721%26sr%3D8-1-spons%26psc%3D1\"><span class=\"a-size-medium a-color-base a-text-normal\">ZORIDA Cell Phone Signal Booster for Home Up to 5500 sq ft - Cell Phone Booster Boost 5G 4G LTE for All US Carriers - Verizon AT&amp;T T-Mobile Sprint FCC Approved Cell Booster</span> </a>"
      ]
     },
     "execution_count": 14,
     "metadata": {},
     "output_type": "execute_result"
    }
   ],
   "source": [
    "atag = obj.h2.a  #to select the particular product we are working with on that page\n",
    "atag"
   ]
  },
  {
   "cell_type": "code",
   "execution_count": 15,
   "id": "d618d75e-e6ff-43dc-9059-9f8c1bdf79ce",
   "metadata": {},
   "outputs": [],
   "source": [
    "des = obj.h2.a.text.strip() #h2 & a is a class under the inspect tab for amazon"
   ]
  },
  {
   "cell_type": "code",
   "execution_count": 16,
   "id": "6da9adc0-878f-4c11-b991-9acaa2a09adc",
   "metadata": {},
   "outputs": [
    {
     "data": {
      "text/plain": [
       "'ZORIDA Cell Phone Signal Booster for Home Up to 5500 sq ft - Cell Phone Booster Boost 5G 4G LTE for All US Carriers - Verizon AT&T T-Mobile Sprint FCC Approved Cell Booster'"
      ]
     },
     "execution_count": 16,
     "metadata": {},
     "output_type": "execute_result"
    }
   ],
   "source": [
    "des # tells the title of the particular product we are working on"
   ]
  },
  {
   "cell_type": "code",
   "execution_count": 17,
   "id": "254181b3-9459-4733-8734-2790100f9b44",
   "metadata": {},
   "outputs": [],
   "source": [
    "url ='https://www.amazon.com/' +atag.get('href') #this code generates the direct url to the page we are working on "
   ]
  },
  {
   "cell_type": "code",
   "execution_count": 18,
   "id": "04ad6fa7-3e3d-4425-a5ef-73a625ba6e59",
   "metadata": {},
   "outputs": [
    {
     "data": {
      "text/plain": [
       "'https://www.amazon.com//gp/slredirect/picassoRedirect.html/ref=pa_sp_atf_aps_sr_pg1_1?ie=UTF8&adId=A09308002VE49JYSZTAYM&qualifier=1680715721&id=339471194384161&widgetName=sp_atf&url=%2FZORIDA-Cell-Phone-Signal-Booster%2Fdp%2FB09QRPL79H%2Fref%3Dsr_1_1_sspa%3Fkeywords%3Dmobile%2Bphone%26qid%3D1680715721%26sr%3D8-1-spons%26psc%3D1'"
      ]
     },
     "execution_count": 18,
     "metadata": {},
     "output_type": "execute_result"
    }
   ],
   "source": [
    "url"
   ]
  },
  {
   "cell_type": "code",
   "execution_count": 19,
   "id": "a9759b24-c730-4a6c-a1de-a120f42428c1",
   "metadata": {},
   "outputs": [],
   "source": [
    "parent =obj.find('span','a-price') #the values in bracket are all under the tags in amazon inspect\n",
    "price =parent.find('span','a-offscreen').text"
   ]
  },
  {
   "cell_type": "code",
   "execution_count": 20,
   "id": "d5191344-0066-4778-87fb-caa5dda0b688",
   "metadata": {},
   "outputs": [
    {
     "data": {
      "text/plain": [
       "<span class=\"a-price\" data-a-color=\"base\" data-a-size=\"xl\"><span class=\"a-offscreen\">$398.99</span><span aria-hidden=\"true\"><span class=\"a-price-symbol\">$</span><span class=\"a-price-whole\">398<span class=\"a-price-decimal\">.</span></span><span class=\"a-price-fraction\">99</span></span></span>"
      ]
     },
     "execution_count": 20,
     "metadata": {},
     "output_type": "execute_result"
    }
   ],
   "source": [
    "parent"
   ]
  },
  {
   "cell_type": "code",
   "execution_count": 21,
   "id": "caeb399d-ca15-468e-95d2-28f958704700",
   "metadata": {},
   "outputs": [
    {
     "data": {
      "text/plain": [
       "'$398.99'"
      ]
     },
     "execution_count": 21,
     "metadata": {},
     "output_type": "execute_result"
    }
   ],
   "source": [
    "price"
   ]
  },
  {
   "cell_type": "code",
   "execution_count": 22,
   "id": "3540afda-0040-437c-ae7c-e9b9da82094b",
   "metadata": {},
   "outputs": [
    {
     "name": "stdout",
     "output_type": "stream",
     "text": [
      "4.3 out of 5 stars\n"
     ]
    }
   ],
   "source": [
    "rate= obj.find('span', 'a-icon-alt').text\n",
    "print(rate)"
   ]
  },
  {
   "cell_type": "code",
   "execution_count": 23,
   "id": "b9613a0d-ca32-4d75-8f91-bb64a780e04f",
   "metadata": {},
   "outputs": [
    {
     "data": {
      "text/plain": [
       "'(111)'"
      ]
     },
     "execution_count": 23,
     "metadata": {},
     "output_type": "execute_result"
    }
   ],
   "source": [
    "obj.find('span',{'class':'s-underline-text'}).text #to print number of reviews in total"
   ]
  },
  {
   "cell_type": "code",
   "execution_count": 170,
   "id": "1b497bf1-6cbc-45dd-ae5e-6ed1d28f3e53",
   "metadata": {},
   "outputs": [],
   "source": [
    "#obj.find('span',{'class':'a-size-base', 'dir':'auto'}) unfortunately this code didnt work for me so i generated mine above to find the review count"
   ]
  },
  {
   "cell_type": "markdown",
   "id": "87caed65-09b0-4b9b-80ab-9f3ebefa3215",
   "metadata": {},
   "source": [
    "# Building Amazon Generic Auto Scraper Fxn"
   ]
  },
  {
   "cell_type": "code",
   "execution_count": 96,
   "id": "6b44df6d-1084-497c-97ab-6eaf6e868b9b",
   "metadata": {},
   "outputs": [],
   "source": [
    "from selenium import webdriver\n",
    "import chromedriver_binary\n",
    "from bs4 import BeautifulSoup\n",
    "\n",
    "\n",
    "#for microsoft edge browser\n",
    "from msedge.selenium_tools import Edge, EdgeOptions \n",
    "import csv"
   ]
  },
  {
   "cell_type": "code",
   "execution_count": 130,
   "id": "b12287d4-67d8-4ac4-a1c2-0fa45860d18c",
   "metadata": {},
   "outputs": [],
   "source": [
    "\n",
    "def my_url(keyword): #create a fxn using the def fxn\n",
    "    temp = 'https://www.amazon.com/s?k={}&ref=nb_sb_noss_1'\n",
    "    #use {} to replace what ever you need to remove from https://www.amazon.com/s?k=phone+case&crid=75LBEIUXJZW6&sprefix=phone+case%2Caps%2C1068&ref=nb_sb_noss_1\n",
    "    keyword =keyword.replace(' ','+') #to replace space with +\n",
    "    url= temp.format(keyword)\n",
    "    \n",
    "    url += '&page{}' #make page more generic by using{} and not specifying what pg number\n",
    "    return url\n",
    "\n",
    "def extract_records(obj):\n",
    "    atag = obj.h2.a   # means a -tag from the inspection\n",
    "    des =obj.h2.a.text.strip() #des =description\n",
    "    url ='https://www.amazon.com/' + atag.get('href')\n",
    "    \n",
    "    #its possible that when you ask the code to generate price from the amazon website it might generate an error instaed due to any reason\n",
    "    #in that case we use some error exceptions (try)\n",
    "    \n",
    "    try: #to get the price but if price not there then except attribute error then return and try something else\n",
    "    \n",
    "        parent =obj.find('span','a-price') #the values in bracket are all under the tags in amazon inspect\n",
    "        price =parent.find('span','a-offscreen').text\n",
    "    except AttributeError:\n",
    "        return \n",
    "    \n",
    "    try:\n",
    "        rate =obj.find('span','a-icon-alt').text\n",
    "        counts_review = obj.find('span',{'class':'s-underline-text'}).text\n",
    "    #if the above is also not there except error and give both empty spaces ' '\n",
    "    except AttributeError:\n",
    "            \n",
    "        rate = ' '\n",
    "        counts_review = ' '\n",
    "    image =obj.find('img', {'class':'s-image'}).get('src') #to get the image of the page\n",
    "    \n",
    "    result =(des, price, rate, counts_review, url, image)\n",
    "    return result\n",
    "    \n",
    "    #Main program routine\n",
    "    \n",
    "    def main(keyword): #key word that will be passed through the drivers by user\n",
    "        driver = webdriver.Chrome(executable_path = \"Documents/Data Anaytics Dr Briit/chromedriver.exe\")\n",
    "        \n",
    "        records = [] #an empy lists that will contain all the records we will extrat\n",
    "        url= my_url(keyword)\n",
    "    \n",
    "        for page in range(1,3): #the number of pages you want to view\n",
    "            driver.get(url.format(page))\n",
    "            from bs4 import BeautifulSoup\n",
    "            soup = BeautifulSoup(driver.page_source, 'html.parser')\n",
    "            soup_results = soup.find_all('div', {'data-component-type':'s-search-result'})\n",
    "        \n",
    "        for item in soup_results:\n",
    "            record = extract_records(item) #to be able to extract the record from beautiful soup\n",
    "            if record: #if you are able to extract record then append in to records\n",
    "                records.append(record)\n",
    "                \n",
    "                #to save the records being extracted\n",
    "        with open('Resultz.csv', 'w', newline ='', encoding = 'utf-8') as f:\n",
    "            writer = csv.writer(f)\n",
    "            writer.writerow(['Description', 'Price', 'Rate', 'Review Counts', 'URL','Image']) #This will be the column names\n",
    "            writer.writerows(records) #to fill the data points with everything extracted and save d in records"
   ]
  },
  {
   "cell_type": "code",
   "execution_count": 135,
   "id": "4c866c97-0657-47eb-9b91-2606d9602a3c",
   "metadata": {},
   "outputs": [],
   "source": [
    "main ('bags')"
   ]
  },
  {
   "cell_type": "code",
   "execution_count": 118,
   "id": "6c3b4476-d8b5-49a6-85c1-ce375a2ab783",
   "metadata": {},
   "outputs": [
    {
     "data": {
      "text/plain": [
       "'C:\\\\Users\\\\Eugochi'"
      ]
     },
     "execution_count": 118,
     "metadata": {},
     "output_type": "execute_result"
    }
   ],
   "source": [
    "pwd #to find storage areas in computer\n"
   ]
  },
  {
   "cell_type": "code",
   "execution_count": 132,
   "id": "9aec7c32-132f-4190-b592-44b261b59901",
   "metadata": {},
   "outputs": [],
   "source": [
    "df=pd.read_csv('Resultz.csv')"
   ]
  },
  {
   "cell_type": "code",
   "execution_count": 133,
   "id": "59e04db1-5920-48ec-8a43-287de9a048ac",
   "metadata": {},
   "outputs": [
    {
     "data": {
      "text/html": [
       "<div>\n",
       "<style scoped>\n",
       "    .dataframe tbody tr th:only-of-type {\n",
       "        vertical-align: middle;\n",
       "    }\n",
       "\n",
       "    .dataframe tbody tr th {\n",
       "        vertical-align: top;\n",
       "    }\n",
       "\n",
       "    .dataframe thead th {\n",
       "        text-align: right;\n",
       "    }\n",
       "</style>\n",
       "<table border=\"1\" class=\"dataframe\">\n",
       "  <thead>\n",
       "    <tr style=\"text-align: right;\">\n",
       "      <th></th>\n",
       "      <th>Description</th>\n",
       "      <th>Price</th>\n",
       "      <th>Rate</th>\n",
       "      <th>Review Counts</th>\n",
       "      <th>URL</th>\n",
       "      <th>Image</th>\n",
       "    </tr>\n",
       "  </thead>\n",
       "  <tbody>\n",
       "    <tr>\n",
       "      <th>0</th>\n",
       "      <td>GoPro HERO11 Black - Waterproof Action Camera ...</td>\n",
       "      <td>$449.00</td>\n",
       "      <td>4.4 out of 5 stars</td>\n",
       "      <td>(727)</td>\n",
       "      <td>https://www.amazon.com//gp/slredirect/picassoR...</td>\n",
       "      <td>https://m.media-amazon.com/images/I/617sGSjmC1...</td>\n",
       "    </tr>\n",
       "    <tr>\n",
       "      <th>1</th>\n",
       "      <td>GoPro HERO11 Black Mini - Compact Waterproof A...</td>\n",
       "      <td>$399.99</td>\n",
       "      <td>3.9 out of 5 stars</td>\n",
       "      <td>(94)</td>\n",
       "      <td>https://www.amazon.com//gp/slredirect/picassoR...</td>\n",
       "      <td>https://m.media-amazon.com/images/I/61rqipwHOA...</td>\n",
       "    </tr>\n",
       "    <tr>\n",
       "      <th>2</th>\n",
       "      <td>Digital Camera, FHD 1080P Digital Camera for K...</td>\n",
       "      <td>$41.64</td>\n",
       "      <td>4.6 out of 5 stars</td>\n",
       "      <td>(1,626)</td>\n",
       "      <td>https://www.amazon.com//Digital-Compact-Portab...</td>\n",
       "      <td>https://m.media-amazon.com/images/I/71kOydESXR...</td>\n",
       "    </tr>\n",
       "    <tr>\n",
       "      <th>3</th>\n",
       "      <td>Sony Alpha 7R IV Full Frame Mirrorless Interch...</td>\n",
       "      <td>$3,198.00</td>\n",
       "      <td>4.8 out of 5 stars</td>\n",
       "      <td>(311)</td>\n",
       "      <td>https://www.amazon.com//Sony-Mirrorless-Interc...</td>\n",
       "      <td>https://m.media-amazon.com/images/I/51ELmWth84...</td>\n",
       "    </tr>\n",
       "    <tr>\n",
       "      <th>4</th>\n",
       "      <td>Sony Alpha a6400 Mirrorless Camera: Compact AP...</td>\n",
       "      <td>$1,298.00</td>\n",
       "      <td>4.7 out of 5 stars</td>\n",
       "      <td>(1,564)</td>\n",
       "      <td>https://www.amazon.com//Sony-Alpha-a6400-Mirro...</td>\n",
       "      <td>https://m.media-amazon.com/images/I/71zs+RZUgg...</td>\n",
       "    </tr>\n",
       "    <tr>\n",
       "      <th>5</th>\n",
       "      <td>Digital Camera,Kids Camera with 32GB Card,Nsoe...</td>\n",
       "      <td>$49.99</td>\n",
       "      <td>4.5 out of 5 stars</td>\n",
       "      <td>(83)</td>\n",
       "      <td>https://www.amazon.com//gp/slredirect/picassoR...</td>\n",
       "      <td>https://m.media-amazon.com/images/I/713MsfyQR4...</td>\n",
       "    </tr>\n",
       "    <tr>\n",
       "      <th>6</th>\n",
       "      <td>Canon EOS R5 Full-Frame Mirrorless Camera w/ R...</td>\n",
       "      <td>$4,799.00</td>\n",
       "      <td>4.7 out of 5 stars</td>\n",
       "      <td>(651)</td>\n",
       "      <td>https://www.amazon.com//Canon-Mirrorless-Camer...</td>\n",
       "      <td>https://m.media-amazon.com/images/I/81depb5Fkh...</td>\n",
       "    </tr>\n",
       "    <tr>\n",
       "      <th>7</th>\n",
       "      <td>Canon EOS Rebel T7 DSLR Camera with 18-55mm is...</td>\n",
       "      <td>$799.00</td>\n",
       "      <td>4.7 out of 5 stars</td>\n",
       "      <td>(1,658)</td>\n",
       "      <td>https://www.amazon.com//Canon-T7-420-800mm-Tel...</td>\n",
       "      <td>https://m.media-amazon.com/images/I/813SPW3uPx...</td>\n",
       "    </tr>\n",
       "    <tr>\n",
       "      <th>8</th>\n",
       "      <td>Vlogging Camera, 4K 48MP Digital Camera for Ph...</td>\n",
       "      <td>$109.99</td>\n",
       "      <td>4.4 out of 5 stars</td>\n",
       "      <td>(154)</td>\n",
       "      <td>https://www.amazon.com//Vlogging-Digital-Photo...</td>\n",
       "      <td>https://m.media-amazon.com/images/I/71LG276t3a...</td>\n",
       "    </tr>\n",
       "    <tr>\n",
       "      <th>9</th>\n",
       "      <td>Digital Cameras for Photography, 4K 48MP Vlogg...</td>\n",
       "      <td>$119.99</td>\n",
       "      <td>3.7 out of 5 stars</td>\n",
       "      <td>(1,455)</td>\n",
       "      <td>https://www.amazon.com//VETEK-Autofocus-Camcor...</td>\n",
       "      <td>https://m.media-amazon.com/images/I/71JfxR92on...</td>\n",
       "    </tr>\n",
       "    <tr>\n",
       "      <th>10</th>\n",
       "      <td>Camcorder UHD 4K Video Camera 48MP 60FPS WIFI ...</td>\n",
       "      <td>$139.99</td>\n",
       "      <td>4.7 out of 5 stars</td>\n",
       "      <td>(95)</td>\n",
       "      <td>https://www.amazon.com//gp/slredirect/picassoR...</td>\n",
       "      <td>https://m.media-amazon.com/images/I/81ePdR+ygj...</td>\n",
       "    </tr>\n",
       "    <tr>\n",
       "      <th>11</th>\n",
       "      <td>KODAK EKTAR H35 Half Frame Film Camera, 35mm, ...</td>\n",
       "      <td>$48.80</td>\n",
       "      <td>4.2 out of 5 stars</td>\n",
       "      <td>(765)</td>\n",
       "      <td>https://www.amazon.com//KODAK-Reusable-Focus-F...</td>\n",
       "      <td>https://m.media-amazon.com/images/I/711seEoUM9...</td>\n",
       "    </tr>\n",
       "    <tr>\n",
       "      <th>12</th>\n",
       "      <td>Digital Camera for Photography, 2.7K 30MP Vlog...</td>\n",
       "      <td>$79.99</td>\n",
       "      <td>2.1 out of 5 stars</td>\n",
       "      <td>(12)</td>\n",
       "      <td>https://www.amazon.com//Photography-Vlogging-P...</td>\n",
       "      <td>https://m.media-amazon.com/images/I/71avwaBMVD...</td>\n",
       "    </tr>\n",
       "    <tr>\n",
       "      <th>13</th>\n",
       "      <td>Digital Camera, FHD 1080P Digital Point and Sh...</td>\n",
       "      <td>$49.99</td>\n",
       "      <td>4.5 out of 5 stars</td>\n",
       "      <td>(154)</td>\n",
       "      <td>https://www.amazon.com//Digital-Vlogging-Stude...</td>\n",
       "      <td>https://m.media-amazon.com/images/I/61JavBEclH...</td>\n",
       "    </tr>\n",
       "    <tr>\n",
       "      <th>14</th>\n",
       "      <td>SPRANDOM Camcorder Video Camera 2.7K 42MP with...</td>\n",
       "      <td>$56.49</td>\n",
       "      <td>4.6 out of 5 stars</td>\n",
       "      <td>(163)</td>\n",
       "      <td>https://www.amazon.com//gp/slredirect/picassoR...</td>\n",
       "      <td>https://m.media-amazon.com/images/I/71bsh+C1SG...</td>\n",
       "    </tr>\n",
       "    <tr>\n",
       "      <th>15</th>\n",
       "      <td>Sony Alpha 7 IV Full-frame Mirrorless Intercha...</td>\n",
       "      <td>$2,698.00</td>\n",
       "      <td>4.7 out of 5 stars</td>\n",
       "      <td>(587)</td>\n",
       "      <td>https://www.amazon.com//Sony-Full-frame-Mirror...</td>\n",
       "      <td>https://m.media-amazon.com/images/I/71vpzW1nQJ...</td>\n",
       "    </tr>\n",
       "    <tr>\n",
       "      <th>16</th>\n",
       "      <td>Digital Camera 4K 44MP Compact Point and Shoot...</td>\n",
       "      <td>$39.99</td>\n",
       "      <td>3.7 out of 5 stars</td>\n",
       "      <td>(121)</td>\n",
       "      <td>https://www.amazon.com//Digital-Compact-Vloggi...</td>\n",
       "      <td>https://m.media-amazon.com/images/I/71lL6z6C-7...</td>\n",
       "    </tr>\n",
       "    <tr>\n",
       "      <th>17</th>\n",
       "      <td>Digital Camera for Photography VJIANGER 4K 48M...</td>\n",
       "      <td>$95.99</td>\n",
       "      <td>3.8 out of 5 stars</td>\n",
       "      <td>(1,117)</td>\n",
       "      <td>https://www.amazon.com//Photography-VJIANGER-V...</td>\n",
       "      <td>https://m.media-amazon.com/images/I/71+JLRGc+u...</td>\n",
       "    </tr>\n",
       "    <tr>\n",
       "      <th>18</th>\n",
       "      <td>Acuvar 16MP Megapixel Compact Digital Camera a...</td>\n",
       "      <td>$24.99</td>\n",
       "      <td>3.1 out of 5 stars</td>\n",
       "      <td>(340)</td>\n",
       "      <td>https://www.amazon.com//Acuvar-Megapixel-Compa...</td>\n",
       "      <td>https://m.media-amazon.com/images/I/71Oh+fVgcv...</td>\n",
       "    </tr>\n",
       "    <tr>\n",
       "      <th>19</th>\n",
       "      <td>JLANDA 4K Video Camera Camcorder, 64MP 60FPS18...</td>\n",
       "      <td>$249.99</td>\n",
       "      <td>4.9 out of 5 stars</td>\n",
       "      <td>(131)</td>\n",
       "      <td>https://www.amazon.com//gp/slredirect/picassoR...</td>\n",
       "      <td>https://m.media-amazon.com/images/I/71hje3vTEG...</td>\n",
       "    </tr>\n",
       "  </tbody>\n",
       "</table>\n",
       "</div>"
      ],
      "text/plain": [
       "                                          Description      Price  \\\n",
       "0   GoPro HERO11 Black - Waterproof Action Camera ...    $449.00   \n",
       "1   GoPro HERO11 Black Mini - Compact Waterproof A...    $399.99   \n",
       "2   Digital Camera, FHD 1080P Digital Camera for K...     $41.64   \n",
       "3   Sony Alpha 7R IV Full Frame Mirrorless Interch...  $3,198.00   \n",
       "4   Sony Alpha a6400 Mirrorless Camera: Compact AP...  $1,298.00   \n",
       "5   Digital Camera,Kids Camera with 32GB Card,Nsoe...     $49.99   \n",
       "6   Canon EOS R5 Full-Frame Mirrorless Camera w/ R...  $4,799.00   \n",
       "7   Canon EOS Rebel T7 DSLR Camera with 18-55mm is...    $799.00   \n",
       "8   Vlogging Camera, 4K 48MP Digital Camera for Ph...    $109.99   \n",
       "9   Digital Cameras for Photography, 4K 48MP Vlogg...    $119.99   \n",
       "10  Camcorder UHD 4K Video Camera 48MP 60FPS WIFI ...    $139.99   \n",
       "11  KODAK EKTAR H35 Half Frame Film Camera, 35mm, ...     $48.80   \n",
       "12  Digital Camera for Photography, 2.7K 30MP Vlog...     $79.99   \n",
       "13  Digital Camera, FHD 1080P Digital Point and Sh...     $49.99   \n",
       "14  SPRANDOM Camcorder Video Camera 2.7K 42MP with...     $56.49   \n",
       "15  Sony Alpha 7 IV Full-frame Mirrorless Intercha...  $2,698.00   \n",
       "16  Digital Camera 4K 44MP Compact Point and Shoot...     $39.99   \n",
       "17  Digital Camera for Photography VJIANGER 4K 48M...     $95.99   \n",
       "18  Acuvar 16MP Megapixel Compact Digital Camera a...     $24.99   \n",
       "19  JLANDA 4K Video Camera Camcorder, 64MP 60FPS18...    $249.99   \n",
       "\n",
       "                  Rate Review Counts  \\\n",
       "0   4.4 out of 5 stars         (727)   \n",
       "1   3.9 out of 5 stars          (94)   \n",
       "2   4.6 out of 5 stars       (1,626)   \n",
       "3   4.8 out of 5 stars         (311)   \n",
       "4   4.7 out of 5 stars       (1,564)   \n",
       "5   4.5 out of 5 stars          (83)   \n",
       "6   4.7 out of 5 stars         (651)   \n",
       "7   4.7 out of 5 stars       (1,658)   \n",
       "8   4.4 out of 5 stars         (154)   \n",
       "9   3.7 out of 5 stars       (1,455)   \n",
       "10  4.7 out of 5 stars          (95)   \n",
       "11  4.2 out of 5 stars         (765)   \n",
       "12  2.1 out of 5 stars          (12)   \n",
       "13  4.5 out of 5 stars         (154)   \n",
       "14  4.6 out of 5 stars         (163)   \n",
       "15  4.7 out of 5 stars         (587)   \n",
       "16  3.7 out of 5 stars         (121)   \n",
       "17  3.8 out of 5 stars       (1,117)   \n",
       "18  3.1 out of 5 stars         (340)   \n",
       "19  4.9 out of 5 stars         (131)   \n",
       "\n",
       "                                                  URL  \\\n",
       "0   https://www.amazon.com//gp/slredirect/picassoR...   \n",
       "1   https://www.amazon.com//gp/slredirect/picassoR...   \n",
       "2   https://www.amazon.com//Digital-Compact-Portab...   \n",
       "3   https://www.amazon.com//Sony-Mirrorless-Interc...   \n",
       "4   https://www.amazon.com//Sony-Alpha-a6400-Mirro...   \n",
       "5   https://www.amazon.com//gp/slredirect/picassoR...   \n",
       "6   https://www.amazon.com//Canon-Mirrorless-Camer...   \n",
       "7   https://www.amazon.com//Canon-T7-420-800mm-Tel...   \n",
       "8   https://www.amazon.com//Vlogging-Digital-Photo...   \n",
       "9   https://www.amazon.com//VETEK-Autofocus-Camcor...   \n",
       "10  https://www.amazon.com//gp/slredirect/picassoR...   \n",
       "11  https://www.amazon.com//KODAK-Reusable-Focus-F...   \n",
       "12  https://www.amazon.com//Photography-Vlogging-P...   \n",
       "13  https://www.amazon.com//Digital-Vlogging-Stude...   \n",
       "14  https://www.amazon.com//gp/slredirect/picassoR...   \n",
       "15  https://www.amazon.com//Sony-Full-frame-Mirror...   \n",
       "16  https://www.amazon.com//Digital-Compact-Vloggi...   \n",
       "17  https://www.amazon.com//Photography-VJIANGER-V...   \n",
       "18  https://www.amazon.com//Acuvar-Megapixel-Compa...   \n",
       "19  https://www.amazon.com//gp/slredirect/picassoR...   \n",
       "\n",
       "                                                Image  \n",
       "0   https://m.media-amazon.com/images/I/617sGSjmC1...  \n",
       "1   https://m.media-amazon.com/images/I/61rqipwHOA...  \n",
       "2   https://m.media-amazon.com/images/I/71kOydESXR...  \n",
       "3   https://m.media-amazon.com/images/I/51ELmWth84...  \n",
       "4   https://m.media-amazon.com/images/I/71zs+RZUgg...  \n",
       "5   https://m.media-amazon.com/images/I/713MsfyQR4...  \n",
       "6   https://m.media-amazon.com/images/I/81depb5Fkh...  \n",
       "7   https://m.media-amazon.com/images/I/813SPW3uPx...  \n",
       "8   https://m.media-amazon.com/images/I/71LG276t3a...  \n",
       "9   https://m.media-amazon.com/images/I/71JfxR92on...  \n",
       "10  https://m.media-amazon.com/images/I/81ePdR+ygj...  \n",
       "11  https://m.media-amazon.com/images/I/711seEoUM9...  \n",
       "12  https://m.media-amazon.com/images/I/71avwaBMVD...  \n",
       "13  https://m.media-amazon.com/images/I/61JavBEclH...  \n",
       "14  https://m.media-amazon.com/images/I/71bsh+C1SG...  \n",
       "15  https://m.media-amazon.com/images/I/71vpzW1nQJ...  \n",
       "16  https://m.media-amazon.com/images/I/71lL6z6C-7...  \n",
       "17  https://m.media-amazon.com/images/I/71+JLRGc+u...  \n",
       "18  https://m.media-amazon.com/images/I/71Oh+fVgcv...  \n",
       "19  https://m.media-amazon.com/images/I/71hje3vTEG...  "
      ]
     },
     "execution_count": 133,
     "metadata": {},
     "output_type": "execute_result"
    }
   ],
   "source": [
    "df"
   ]
  },
  {
   "cell_type": "code",
   "execution_count": null,
   "id": "47c75f22-f3d3-4d5a-b351-3cab0d863532",
   "metadata": {},
   "outputs": [],
   "source": []
  }
 ],
 "metadata": {
  "kernelspec": {
   "display_name": "Python 3 (ipykernel)",
   "language": "python",
   "name": "python3"
  },
  "language_info": {
   "codemirror_mode": {
    "name": "ipython",
    "version": 3
   },
   "file_extension": ".py",
   "mimetype": "text/x-python",
   "name": "python",
   "nbconvert_exporter": "python",
   "pygments_lexer": "ipython3",
   "version": "3.9.12"
  }
 },
 "nbformat": 4,
 "nbformat_minor": 5
}
